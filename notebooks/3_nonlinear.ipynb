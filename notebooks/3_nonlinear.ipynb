{
 "cells": [
  {
   "attachments": {},
   "cell_type": "markdown",
   "id": "80eb6396",
   "metadata": {},
   "source": [
    "This code produces Figure 9 in the manuscript: compariosn of nonlinear solutions with the steady Green's function solution. \n",
    "\n",
    "The code requires FEniCSx---see the README for details."
   ]
  },
  {
   "cell_type": "code",
   "execution_count": null,
   "id": "57aa6f76-b645-4397-b420-d5789dfd518c",
   "metadata": {},
   "outputs": [],
   "source": [
    "%load_ext autoreload\n",
    "%autoreload 2\n",
    "import sys\n",
    "sys.path.insert(0, '../nonlinear-model')"
   ]
  },
  {
   "cell_type": "code",
   "execution_count": null,
   "id": "8d55280f-c1b0-4341-8d1d-b33073904fc1",
   "metadata": {},
   "outputs": [],
   "source": [
    "from main import solve\n",
    "from params import H, Nx, Nz, rho_w, rho_i\n",
    "from smb import smb_h, smb_s\n",
    "import numpy as np\n",
    "import matplotlib.pyplot as plt\n",
    "from scipy.signal import convolve\n",
    "import numpy as np\n",
    "from params import t_r,t_f,nt,L\n",
    "from scipy.interpolate import griddata,interp1d"
   ]
  },
  {
   "cell_type": "code",
   "execution_count": null,
   "id": "47606628-e093-4289-89fe-21def19ef0ae",
   "metadata": {},
   "outputs": [],
   "source": [
    "m0 = 5 / 3.154e7                # max basal melt(+) or freeze(-) rate (m/yr)\n",
    "stdev = 10*H/3                  # standard deviation for Gaussian basal melt anomaly"
   ]
  },
  {
   "cell_type": "markdown",
   "id": "e28e001f-c219-42d5-83fb-a628d983edda",
   "metadata": {},
   "source": [
    "Solve problem with small melt rate:"
   ]
  },
  {
   "cell_type": "code",
   "execution_count": null,
   "id": "edcbe41f-b9ef-4940-8421-e70bdae0b9d3",
   "metadata": {},
   "outputs": [],
   "source": [
    "a = lambda x,t: smb_h(x,t,0.2*m0,stdev)\n",
    "m = lambda x,t: smb_s(x,t,0.2*m0,stdev)\n",
    "\n",
    "h,s,u,w,x,x_vel,z_vel = solve(a,m)"
   ]
  },
  {
   "cell_type": "markdown",
   "id": "cba1ea6d-2523-43ab-88ec-c99cbeb29cb6",
   "metadata": {},
   "source": [
    "Solve the problem with a larger melt rate:"
   ]
  },
  {
   "cell_type": "code",
   "execution_count": null,
   "id": "0de53469-1ad5-440d-b944-45ae02362fa0",
   "metadata": {},
   "outputs": [],
   "source": [
    "a2 = lambda x,t: smb_h(x,t,m0,stdev)\n",
    "m2 = lambda x,t: smb_s(x,t,m0,stdev)\n",
    "\n",
    "h2,s2,u2,w2,x,x_vel,z_vel = solve(a2,m2)"
   ]
  },
  {
   "cell_type": "markdown",
   "id": "e439f4ea-04c6-446b-b2e6-352ffb83f034",
   "metadata": {},
   "source": [
    "Interpolate velocity solution for plotting:"
   ]
  },
  {
   "cell_type": "code",
   "execution_count": null,
   "id": "02a46484-b904-4574-8273-b2f37ba4b077",
   "metadata": {},
   "outputs": [],
   "source": [
    " ex = 1 # vertical exaggeration factor for plotting, default = 1 is no exaggeration\n",
    "\n",
    "def interp_vel(h,s,u,w,x,x_vel,z_vel,ex):\n",
    "    z_g = z_vel/H\n",
    "    x_g = x_vel/H\n",
    "    x0 = x/H\n",
    "\n",
    "    he = h[:,-1]/H-1\n",
    "    se = s[:,-1]/H\n",
    "\n",
    "    h_int = interp1d(x0,he)\n",
    "    s_int = interp1d(x0,se)\n",
    "\n",
    "    z_d = (1-z_g)*ex*s_int(x_g) + z_g*(ex*h_int(x_g)+1)\n",
    "\n",
    "    points = (x_g,z_d)\n",
    "    nxi = 101\n",
    "    nzi = 101\n",
    "    xi = np.linspace(x_g.min(),x_g.max(),num=nxi)\n",
    "    zi = np.linspace(z_d.min()+0.01,z_d.max(),num=nzi)\n",
    "\n",
    "    Xi,Zi = np.meshgrid(xi,zi)\n",
    "    points_i = (Xi,Zi)\n",
    "    Uc = griddata(points=points,values=u, xi=points_i,fill_value=0)\n",
    "    Wc = griddata(points=points,values=w, xi=points_i,fill_value=0)\n",
    "    speed = np.sqrt(Uc**2 + Wc**2)\n",
    "    return Uc, Wc, speed, xi, zi\n",
    "\n",
    "Uc,Wc,speed, xi, zi = interp_vel(h,s,u,w,x,x_vel,z_vel,ex)\n",
    "Uc2,Wc2,speed2, xi2, zi2 = interp_vel(h2,s2,u2,w2,x,x_vel,z_vel,ex)"
   ]
  },
  {
   "cell_type": "markdown",
   "id": "2c977221-3998-4803-8ef1-6f3d2fd1b771",
   "metadata": {},
   "source": [
    "Compute linear steady solution for verification via Green's function:"
   ]
  },
  {
   "cell_type": "code",
   "execution_count": null,
   "id": "6671aeab-fb50-4107-88fe-b1098e6acf89",
   "metadata": {},
   "outputs": [],
   "source": [
    "# Green's function for steady, linearized problem:\n",
    "G = (1./4)*np.pi*(1/np.cosh((np.pi*(x/H))/2.)**2) *(-3+np.pi*(x/H)*np.tanh((np.pi*x/H)/2.0))\n",
    "\n",
    "# scaled basal melt rate:\n",
    "M = m(x,0)*t_r/H\n",
    "M2 = m2(x,0)*t_r/H  \n",
    "# compute convolution solution:\n",
    "h0 = convolve(G,M,mode='same')*(x[1]-x[0])/H\n",
    "h0_2 = convolve(G,M2,mode='same')*(x[1]-x[0])/H "
   ]
  },
  {
   "cell_type": "markdown",
   "id": "54e79a2a-9e15-4933-a3d2-68a4d9921005",
   "metadata": {},
   "source": [
    "Plot everything:"
   ]
  },
  {
   "cell_type": "code",
   "execution_count": null,
   "id": "e9f406d2-6fe0-42fb-a1ae-0db9df5b51fb",
   "metadata": {},
   "outputs": [],
   "source": [
    "t = np.linspace(0,t_f, nt)\n",
    "M_max = (t_r/H)*np.abs(m(0,t)).max()\n",
    "delta = rho_w/rho_i - 1\n",
    "\n",
    "i = -1\n",
    "plt.close()\n",
    "fig = plt.figure(figsize=(14,4))\n",
    "plt.subplot(121)\n",
    "plt.title(r'(a)',fontsize=20,loc='left',zorder=100)\n",
    "plt.plot(x/H,10+ex*h0,linewidth=2,color='k',linestyle='--',label=r'$h_\\mathrm{e}$ (steady linear)',zorder=41)\n",
    "plt.plot(x/H,1+ex*(h[:,i]-H)/H,linewidth=3,color='forestgreen',label=r'$h$ (nonlinear FEM)',zorder=31)\n",
    "plt.plot(x/H,ex*s[:,i]/H,linewidth=3,color='midnightblue',label=r'$s$ (nonlinear FEM)',zorder=32)\n",
    "plt.plot(x/H,10+ex*s[:,i]/H,linewidth=3,color='darkorange',label=r'$m$',zorder=32)\n",
    "plt.fill_between(x/H,y1=ex*s[:,i]/H, y2=1+ex*(h[:,i]-H)/H,facecolor='aliceblue',alpha=1.0)\n",
    "plt.fill_between(x/H,y1=-2*np.ones(np.size(x)), y2=ex*s[:,i]/H,facecolor='lightsteelblue',alpha=1,zorder=15)\n",
    "stream = plt.streamplot(xi,zi,Uc/speed.max(),Wc/speed.max(),color=speed/speed.max(),arrowsize=1.5,linewidth=2.5,minlength=0.7,density=2,cmap='Reds')\n",
    "plt.fill_between(x/H,y1=1+ex*(h[:,i]-H)/H,y2=2*np.ones(x.size),facecolor='w',alpha=1.0,zorder=16)\n",
    "\n",
    "plt.ylabel(r'$z$',fontsize=16)\n",
    "plt.xlabel(r'$x$',fontsize=16)\n",
    "plt.yticks(fontsize=16)\n",
    "plt.xticks(fontsize=16)\n",
    "plt.legend(fontsize=16,ncol=4,bbox_to_anchor=(2.21,-0.95))\n",
    "plt.ylim(-0.4,1.2)\n",
    "plt.xlim(-0.5*L/H,0.5*L/H)\n",
    "\n",
    "axins = plt.gca().inset_axes([0.0, -0.85, 1.0, 0.25],sharex=plt.gca())\n",
    "axins.plot(x/H,m(x,t[i])*t_r/H,linewidth=2,color='darkorange',linestyle='-')\n",
    "axins.set_ylabel(r'$m$',fontsize=16,color='k')\n",
    "axins.set_ylim(-np.abs(M2).max()-1e-3,np.abs(M2).max()+1e-3)\n",
    "axins.tick_params(axis='y', which='major', labelsize=16,color='k',labelcolor='k')\n",
    "axins.tick_params(axis='x',direction=\"in\",which='major', labelsize=16,top=True, labeltop=True, bottom=False, labelbottom=False)\n",
    "plt.setp(axins.get_xticklabels(), visible=False)\n",
    "\n",
    "axins = plt.gca().inset_axes([0.0, -0.5,1, 0.25],sharex=plt.gca())\n",
    "axins.plot(x/H,(h[:,i]-H)/H,linewidth=2,color='forestgreen',linestyle='-')\n",
    "axins.plot(x/H,h0,linewidth=2,color='k',linestyle='--')\n",
    "axins.set_ylabel(r'$h$',fontsize=16,color='k')\n",
    "axins.set_ylim(-np.abs((h2[:,i]-H)/H).max()-0.0025,0.005)\n",
    "axins.tick_params(axis='y', which='major', labelsize=16,color='k',labelcolor='k')\n",
    "axins.tick_params(axis='x',direction=\"in\",which='major', labelsize=16,top=True, labeltop=True, bottom=False, labelbottom=False)\n",
    "plt.setp(axins.get_xticklabels(), visible=False)\n",
    "\n",
    "plt.subplot(122)\n",
    "plt.title(r'(b)',fontsize=20,loc='left',zorder=100)\n",
    "plt.plot(x/H,10+ex*h0_2,linewidth=2,color='k',linestyle='--',zorder=41)\n",
    "plt.plot(x/H,1+ex*(h2[:,i]-H)/H,linewidth=3,color='forestgreen',zorder=31)\n",
    "plt.plot(x/H,ex*s2[:,i]/H,linewidth=3,color='midnightblue',zorder=32)\n",
    "plt.fill_between(x/H,y1=ex*s2[:,i]/H, y2=1+ex*(h2[:,i]-H)/H,facecolor='aliceblue',alpha=1.0)\n",
    "plt.fill_between(x/H,y1=-2*np.ones(np.size(x)), y2=ex*s2[:,i]/H,facecolor='lightsteelblue',alpha=1,zorder=15)\n",
    "stream = plt.streamplot(xi2,zi2,Uc2/speed2.max(),Wc2/speed2.max(),color=speed2/speed2.max(),arrowsize=1.5,linewidth=2.5,minlength=0.7,density=2,cmap='Reds')\n",
    "plt.fill_between(x/H,y1=1+ex*(h2[:,i]-H)/H,y2=2*np.ones(x.size),facecolor='w',alpha=1.0,zorder=16)\n",
    "plt.gca().yaxis.tick_right()\n",
    "plt.gca().yaxis.set_label_position(\"right\")\n",
    "\n",
    "plt.ylabel(r'$z$',fontsize=16)\n",
    "plt.xlabel(r'$x$',fontsize=16)\n",
    "plt.yticks(fontsize=16)\n",
    "plt.xticks(fontsize=16)\n",
    "plt.ylim(-0.4,1.2)\n",
    "plt.xlim(-0.5*L/H,0.5*L/H)\n",
    "\n",
    "axins = plt.gca().inset_axes([0.0, -0.85, 1.0, 0.25],sharex=plt.gca())\n",
    "axins.plot(x/H,m2(x,t[i])*t_r/H,linewidth=2,color='darkorange',linestyle='-')\n",
    "axins.set_ylabel(r'$m$',fontsize=16,color='k')\n",
    "axins.yaxis.set_label_position(\"right\")\n",
    "axins.set_ylim(-np.abs(M2).max()-1e-3,np.abs(M2).max()+1e-3)\n",
    "axins.tick_params(axis='y', which='major', labelsize=16,color='k',labelcolor='k',left=False, labelleft=False, right=True, labelright=True)\n",
    "axins.tick_params(axis='x',direction=\"in\",which='major', labelsize=16,top=True, labeltop=True, bottom=False, labelbottom=False)\n",
    "plt.setp(axins.get_xticklabels(), visible=False)\n",
    "axins.yaxis.set_offset_position('right')\n",
    "\n",
    "axins = plt.gca().inset_axes([0.0, -0.5,1, 0.25],sharex=plt.gca())\n",
    "axins.plot(x/H,(h2[:,i]-H)/H,linewidth=2,color='forestgreen')\n",
    "axins.plot(x/H,h0_2,linewidth=2,color='k',linestyle='--')\n",
    "axins.set_ylabel(r'$h$',fontsize=16,color='k')\n",
    "axins.yaxis.set_label_position(\"right\")\n",
    "axins.set_ylim(-np.abs((h2[:,i]-H)/H).max()-0.0025,0.005)\n",
    "axins.yaxis.set_offset_position('right')\n",
    "axins.tick_params(axis='y', which='major', labelsize=16,color='k',labelcolor='k',left=False, labelleft=False, right=True, labelright=True)\n",
    "axins.tick_params(axis='x',direction=\"in\",which='major', labelsize=16,top=True, labeltop=True, bottom=False, labelbottom=False)\n",
    "plt.setp(axins.get_xticklabels(), visible=False)\n",
    "\n",
    "\n",
    "fig.subplots_adjust(right=0.85)\n",
    "cbar_ax = fig.add_axes([0.925, 0.12, 0.02, 0.75])\n",
    "cbar = fig.colorbar(stream.lines,cax=cbar_ax,orientation='vertical')\n",
    "cbar.ax.tick_params(labelsize=16)\n",
    "cbar.set_label(r'$|\\mathbf{u}|\\,/\\, \\Vert\\mathbf{u}\\Vert_\\infty$',fontsize=24,labelpad=10)\n",
    "cbar.ax.tick_params(labelsize=16)\n",
    "\n",
    "plt.savefig('fig9',bbox_inches='tight')\n",
    "plt.show()\n",
    "plt.close()"
   ]
  }
 ],
 "metadata": {
  "kernelspec": {
   "display_name": "Python 3 (ipykernel)",
   "language": "python",
   "name": "python3"
  },
  "language_info": {
   "codemirror_mode": {
    "name": "ipython",
    "version": 3
   },
   "file_extension": ".py",
   "mimetype": "text/x-python",
   "name": "python",
   "nbconvert_exporter": "python",
   "pygments_lexer": "ipython3",
   "version": "3.10.6"
  }
 },
 "nbformat": 4,
 "nbformat_minor": 5
}
