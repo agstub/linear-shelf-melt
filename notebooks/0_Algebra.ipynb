{
 "cells": [
  {
   "cell_type": "markdown",
   "metadata": {},
   "source": [
    "This program use SymPy to symbolically derive several quantities that are described\n",
    "in the manuscript: the (1) relaxation and buoyancy transfer functions, (2) the velocity\n",
    "solutions, and (3) a limiting value of one of the eigenvalues of the problem.\n",
    "\n",
    "This file is best read/used in conjunction with the derivations in the manuscript."
   ]
  },
  {
   "cell_type": "markdown",
   "metadata": {},
   "source": [
    "## Elevation Solutions"
   ]
  },
  {
   "cell_type": "code",
   "execution_count": 1,
   "metadata": {},
   "outputs": [],
   "source": [
    "import sympy as sp\n",
    "import matplotlib.pyplot as plt\n",
    "\n",
    "k = sp.Symbol('k')          # scaled wavenumber (H*wavenumber, where H=ice thickness)  \n",
    "expk = sp.exp(k)\n",
    "# use this matrix for floating ice:\n",
    "M = sp.Matrix(( [expk, -1/expk, k*expk,-k/expk], [expk, 1/expk, expk*(k+1),(k-1)/expk], [1, 1, 1,-1],[1,-1,0,0] ))\n",
    "\n",
    "b1 = sp.Symbol('b1')                # proportional to -h\n",
    "b2 = sp.Symbol('b2')                # proportional to delta*s\n",
    "e0 = sp.Symbol('e0')                # constant \n",
    "e1 = sp.Symbol('e1')                # constant \n",
    "\n",
    "Delta = sp.Symbol('Delta')\n",
    "\n",
    "\n",
    "# solution vector\n",
    "A,B,C,D = sp.symbols('A,B,C,D')\n",
    "\n",
    "# rhs vector:\n",
    "b = sp.Matrix(4,1,[b1,-e0*k*b1,e1*k*b2,b2])\n",
    "\n",
    "sol, = sp.linsolve((M,b),[A,B,C,D])\n",
    "\n",
    "# vertical velocity at upper surface of ice sheet (modulo 1/k factor)\n",
    "w_h = expk*sol[0] + (1/expk)*sol[1] + k*expk*sol[2] + (k/expk)*sol[3]\n"
   ]
  },
  {
   "cell_type": "markdown",
   "metadata": {},
   "source": [
    "Print relaxation and buoyancy transfer functions\n",
    "(the extension-related terms have the e_0 and e_1 on them):"
   ]
  },
  {
   "cell_type": "code",
   "execution_count": 2,
   "metadata": {},
   "outputs": [
    {
     "name": "stdout",
     "output_type": "stream",
     "text": [
      "R = \n",
      "⎛        3      ⎞  2⋅k    4⋅k    \n",
      "⎝- 4⋅e₀⋅k  - 4⋅k⎠⋅ℯ    - ℯ    + 1\n",
      "─────────────────────────────────\n",
      "    ⎛   2    ⎞  2⋅k    4⋅k       \n",
      "    ⎝4⋅k  + 2⎠⋅ℯ    - ℯ    - 1   \n",
      "\n",
      " \n",
      " B = \n",
      "  ⎛   ⎛   2  2⋅k    2⎞                 2⋅k    ⎞  k\n",
      "2⋅⎝e₁⋅⎝- k ⋅ℯ    + k ⎠ - k + (-k - 1)⋅ℯ    + 1⎠⋅ℯ \n",
      "──────────────────────────────────────────────────\n",
      "            ⎛   2    ⎞  2⋅k    4⋅k                \n",
      "            ⎝4⋅k  + 2⎠⋅ℯ    - ℯ    - 1            \n"
     ]
    }
   ],
   "source": [
    "# # print the formulas (modulo a 1/k factor):\n",
    "\n",
    "# print the coefficient on h\n",
    "R = sp.collect(sp.collect(sp.simplify(w_h.subs(b1,1).subs(b2,0)),expk),e0)\n",
    "print('R = ')\n",
    "sp.pprint(R)\n",
    "\n",
    "# print the coefficient on delta*s\n",
    "B = sp.collect(sp.collect(sp.simplify(-w_h.subs(b1,0).subs(b2,1)),e1),expk)\n",
    "print('\\n \\n B = ')\n",
    "sp.pprint(B)"
   ]
  },
  {
   "cell_type": "code",
   "execution_count": 3,
   "metadata": {},
   "outputs": [
    {
     "name": "stdout",
     "output_type": "stream",
     "text": [
      "B = \n",
      "  ⎛   ⎛   2  2⋅k    2⎞                 2⋅k    ⎞  k\n",
      "2⋅⎝e₀⋅⎝- k ⋅ℯ    + k ⎠ - k + (-k - 1)⋅ℯ    + 1⎠⋅ℯ \n",
      "──────────────────────────────────────────────────\n",
      "            ⎛   2    ⎞  2⋅k    4⋅k                \n",
      "            ⎝4⋅k  + 2⎠⋅ℯ    - ℯ    - 1            \n",
      "\n",
      " \n",
      " R = \n",
      "⎛        3      ⎞  2⋅k    4⋅k    \n",
      "⎝- 4⋅e₁⋅k  - 4⋅k⎠⋅ℯ    - ℯ    + 1\n",
      "─────────────────────────────────\n",
      "    ⎛   2    ⎞  2⋅k    4⋅k       \n",
      "    ⎝4⋅k  + 2⎠⋅ℯ    - ℯ    - 1   \n"
     ]
    }
   ],
   "source": [
    "# # print the formulas (modulo a 1/k factor):\n",
    "w_b = sol[0]+sol[1]\n",
    "\n",
    "# print the coefficient on h\n",
    "B = sp.collect(sp.collect(sp.simplify(w_b.subs(b1,1).subs(b2,0)),e0),expk)\n",
    "print('B = ')\n",
    "sp.pprint(B)\n",
    "\n",
    "# print the coefficient on delta*s\n",
    "R = sp.collect(sp.collect(sp.simplify(-w_b.subs(b1,0).subs(b2,1)),e1),expk)\n",
    "print('\\n \\n R = ')\n",
    "sp.pprint(R)"
   ]
  },
  {
   "cell_type": "markdown",
   "metadata": {},
   "source": [
    "## Velocity Solutions"
   ]
  },
  {
   "cell_type": "markdown",
   "metadata": {},
   "source": [
    "We also want the vertical velocity at an arbitrary depth z, which we can compute as follows:"
   ]
  },
  {
   "cell_type": "code",
   "execution_count": 4,
   "metadata": {},
   "outputs": [
    {
     "name": "stdout",
     "output_type": "stream",
     "text": [
      "h component:\n",
      "⎛      ⎛     2⋅k    2⋅k    ⎞      2⋅k       ⎛    ⎛       2⋅k    ⎞      2⋅k    \n",
      "⎝- k⋅z⋅⎝2⋅k⋅ℯ    + ℯ    - 1⎠ - k⋅ℯ    - k + ⎝k⋅z⋅⎝2⋅k + ℯ    - 1⎠ - k⋅ℯ    - k\n",
      "──────────────────────────────────────────────────────────────────────────────\n",
      "                                                2  2⋅k    4⋅k      2⋅k        \n",
      "                                             4⋅k ⋅ℯ    - ℯ    + 2⋅ℯ    - 1    \n",
      "\n",
      "    2⋅k    ⎞  2⋅k⋅z    2⋅k    ⎞  -k⋅z + k\n",
      " - ℯ    + 1⎠⋅ℯ      - ℯ    + 1⎠⋅ℯ        \n",
      "─────────────────────────────────────────\n",
      "                                         \n",
      "                                         \n",
      "\n",
      " s component:\n",
      "⎛⎛     2       ⎛       2⋅k    ⎞          2⋅k    ⎞  2⋅k   ⎛   2  2⋅k       ⎛   \n",
      "⎝⎝- 2⋅k  + k⋅z⋅⎝2⋅k + ℯ    - 1⎠ + 2⋅k + ℯ    - 1⎠⋅ℯ    + ⎝2⋅k ⋅ℯ    - k⋅z⋅⎝2⋅k\n",
      "──────────────────────────────────────────────────────────────────────────────\n",
      "                                                      2  2⋅k    4⋅k      2⋅k  \n",
      "                                                   4⋅k ⋅ℯ    - ℯ    + 2⋅ℯ    -\n",
      "\n",
      "  2⋅k    2⋅k    ⎞        2⋅k    2⋅k    ⎞  2⋅k⋅z⎞  -k⋅z\n",
      "⋅ℯ    + ℯ    - 1⎠ + 2⋅k⋅ℯ    + ℯ    - 1⎠⋅ℯ     ⎠⋅ℯ    \n",
      "──────────────────────────────────────────────────────\n",
      "                                                      \n",
      " 1                                                    \n"
     ]
    }
   ],
   "source": [
    "#---------------------- 2. VELOCITY SOLUTIONS------------------------------------\n",
    "z = sp.Symbol('z')          # depth\n",
    "\n",
    "# w(z) modulo a H/k factor\n",
    "w = sp.exp(k*z)*sol[0] + (1/sp.exp(k*z))*sol[1] + k*z*sp.exp(k*z)*sol[2] + k*z*sol[3]/sp.exp(k*z)\n",
    "\n",
    "print('h component:')\n",
    "sp.pprint(sp.simplify(w.subs(b2,0).subs(b1,1).subs(e1,0).subs(e0,0)))\n",
    "print('\\n s component:')\n",
    "sp.pprint(sp.simplify(w.subs(b1,0).subs(b2,1).subs(e1,0).subs(e0,0)))"
   ]
  },
  {
   "cell_type": "markdown",
   "metadata": {},
   "source": [
    "Now we will compute the horizontal velocity expressions:"
   ]
  },
  {
   "cell_type": "code",
   "execution_count": 5,
   "metadata": {},
   "outputs": [
    {
     "name": "stdout",
     "output_type": "stream",
     "text": [
      "h component:\n",
      "⎛         2⋅k⋅z      2⋅k⋅z      2⋅k⋅(z + 1)                         2⋅k    2⋅k\n",
      "⎝- 2⋅k⋅z⋅ℯ      + z⋅ℯ      - z⋅ℯ            + z + (-2⋅k⋅z - z + 1)⋅ℯ    - ℯ   \n",
      "──────────────────────────────────────────────────────────────────────────────\n",
      "                                           ⎛⎛   2    ⎞  2⋅k    4⋅k    ⎞       \n",
      "                                         k⋅⎝⎝4⋅k  + 2⎠⋅ℯ    - ℯ    - 1⎠       \n",
      "\n",
      "⋅z    2⋅k⋅(z + 1)    ⎞  k⋅(1 - z)\n",
      "   + ℯ            - 1⎠⋅ℯ         \n",
      "─────────────────────────────────\n",
      "                                 \n",
      "                                 \n",
      "\n",
      " s component:\n",
      "⎛         2⋅k⋅(z + 1)        2⋅k⋅(z + 1)      4⋅k      2⋅k⋅z      2⋅k⋅(z + 1) \n",
      "⎝- 2⋅k⋅z⋅ℯ            + 2⋅k⋅ℯ            - z⋅ℯ    + z⋅ℯ      - z⋅ℯ            \n",
      "──────────────────────────────────────────────────────────────────────────────\n",
      "                                          ⎛⎛   2    ⎞  2⋅k    4⋅k    ⎞        \n",
      "                                        k⋅⎝⎝4⋅k  + 2⎠⋅ℯ    - ℯ    - 1⎠        \n",
      "\n",
      "                      2⋅k⎞  -k⋅z\n",
      "+ (-2⋅k⋅z + 2⋅k + z)⋅ℯ   ⎠⋅ℯ    \n",
      "────────────────────────────────\n",
      "                                \n",
      "                                \n"
     ]
    }
   ],
   "source": [
    "# coefficients from the elevation solution problem\n",
    "sol = sol.subs(e1,0).subs(e0,0) # set extensional terms to zero\n",
    "A,B,C,D = sol\n",
    "\n",
    "alpha = sp.Symbol('alpha')          #ik_x\n",
    "\n",
    "wb = (A+B)/k                                    # w at z=0\n",
    "wh = (A*expk + B/expk + k*expk*C + k*D/expk)/k        # w at z=H\n",
    "\n",
    "wz0 = A-B+C+D                                   # dw/dz at z=0\n",
    "\n",
    "wzh = A*expk -B/expk +C*expk +C*k*expk -D*k/expk + D/expk # dw/dz at z=H\n",
    "\n",
    "# second derivative at z=H\n",
    "wzzh = A*k*expk + B*k/expk + 2*C*k*expk + C*k*k*expk + D*k*k/expk  -2*D*k/expk\n",
    "\n",
    "# second derivative at z=0\n",
    "wzz0 = k*(A+B+2*C-2*D)\n",
    "\n",
    "Ph = wzh - wz0*(expk+1/expk)/2- wzz0*(1/k)*(expk-1/expk)/2   # P(H)\n",
    "\n",
    "Pzh = wzzh - wz0*k*(expk-1/expk)/2 - wzz0*(expk+1/expk)/2    # P_z(H)\n",
    "\n",
    "b3 = -(k*wh + Pzh/k)*(alpha/k**2)                                 # first rhs vector entry\n",
    "\n",
    "b4 = -(k*wb)*(alpha/k**2)                                          # 2nd rhs vector entry\n",
    "\n",
    "# Matrix for horizontal surface velocity solutions\n",
    "M2 = sp.Matrix(( [expk, -1/expk],[1, -1]))\n",
    "\n",
    "# solution vector\n",
    "E,F = sp.symbols('E,F')\n",
    "\n",
    "# RHS vector:\n",
    "d = sp.Matrix(2,1,[b3,b4])\n",
    "\n",
    "sol2, = sp.linsolve((M2,d),[E,F])\n",
    "\n",
    "\n",
    "\n",
    "wz = A*sp.exp(k*z) - B*sp.exp(-k*z) + C*(1+k*z)*sp.exp(k*z)+ D*(1-k*z)*sp.exp(-k*z)\n",
    "\n",
    "coshkz = (sp.exp(k*z) + sp.exp(-k*z))/2\n",
    "sinhkz = (sp.exp(k*z) - sp.exp(-k*z))/2\n",
    "\n",
    "\n",
    "P = wz -wz0*coshkz- wzz0*sinhkz/k\n",
    "\n",
    "u = P*(alpha/k**2)  + sol2[0]*sp.exp(k*z) + sol2[1]*sp.exp(-k*z)\n",
    "\n",
    "## print velocity response functions\n",
    "print('h component:')\n",
    "sp.pprint(sp.collect(sp.collect(sp.simplify(-u.subs(b2,0).subs(b1,1).subs(alpha,1)),expk),1-z))\n",
    "print('\\n s component:')\n",
    "sp.pprint(sp.collect(sp.collect(sp.simplify(u.subs(b1,0).subs(b2,1).subs(alpha,1)),expk),1-z))"
   ]
  },
  {
   "cell_type": "markdown",
   "metadata": {},
   "source": [
    "## Eigenvalue Limit"
   ]
  },
  {
   "cell_type": "markdown",
   "metadata": {},
   "source": [
    "Finally we compute the limit of the larger eigenvalue in the problem as $k\\to 0$, see the next notebook or the manuscript for more context. "
   ]
  },
  {
   "cell_type": "code",
   "execution_count": 6,
   "metadata": {},
   "outputs": [
    {
     "name": "stdout",
     "output_type": "stream",
     "text": [
      "limit of lambda_+ as k goes to zero:\n",
      "   -δ    \n",
      "─────────\n",
      "2⋅(δ + 1)\n"
     ]
    }
   ],
   "source": [
    "d = sp.Symbol('delta',positive=True)\n",
    "R0 = (expk**4)+4*k*(expk**2)-1\n",
    "D = k*(expk**4-2*(1+2*k**2)*(expk**2)+1)\n",
    "B0 = 2*(k+1)*(expk**3) + 2*(k-1)*expk\n",
    "R = R0/D\n",
    "B = B0/D\n",
    "\n",
    "# symbolic expression for the larger eigenvalue in the problem:\n",
    "lamda = -(d+1)*R*(1- sp.sqrt((4*d/(d+1)**2)*((B0/R0)**2  -1) + 1))/2\n",
    "\n",
    "# take the limit as k --> 0:\n",
    "L = sp.limit(lamda,k,0)\n",
    "\n",
    "# # print the limit:\n",
    "print('limit of lambda_+ as k goes to zero:')\n",
    "sp.pprint(sp.factor(sp.simplify(L)))"
   ]
  }
 ],
 "metadata": {
  "kernelspec": {
   "display_name": "Python 3 (ipykernel)",
   "language": "python",
   "name": "python3"
  },
  "language_info": {
   "codemirror_mode": {
    "name": "ipython",
    "version": 3
   },
   "file_extension": ".py",
   "mimetype": "text/x-python",
   "name": "python",
   "nbconvert_exporter": "python",
   "pygments_lexer": "ipython3",
   "version": "3.10.6"
  }
 },
 "nbformat": 4,
 "nbformat_minor": 4
}
