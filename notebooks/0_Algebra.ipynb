{
 "cells": [
  {
   "cell_type": "code",
   "execution_count": 1,
   "metadata": {},
   "outputs": [],
   "source": [
    "# this program use SymPy to symbolically derive several quantities that are described\n",
    "# in the notes: the (1) relaxation and buoyancy transfer functions, (2) the velocity\n",
    "# solutions, and (3) a limiting value of one of the eigenvalues of the problem.\n",
    "#\n",
    "# all of the printing is commented out; this file is best read/used in conjunction\n",
    "# with the derivation in the appendix.\n",
    "\n",
    "#---------------------- 1. ELEVATION SOLUTIONS----------------------------------\n",
    "import sympy as sp\n",
    "import matplotlib.pyplot as plt\n",
    "\n",
    "k = sp.Symbol('k')\n",
    "expk = sp.exp(k)\n",
    "# use this matrix for floating ice:\n",
    "M = sp.Matrix(( [expk, -1/expk, k*expk,-k/expk], [expk, 1/expk, expk*(k+1),(k-1)/expk], [1, 1, 1,-1],[1,-1,0,0] ))\n",
    "\n",
    "b1 = sp.Symbol('b1')                # proportional to h\n",
    "b2 = sp.Symbol('b2')                # proportional to s\n",
    "\n",
    "# solution vector\n",
    "A,B,C,D = sp.symbols('A,B,C,D')\n",
    "\n",
    "# rhs vector:\n",
    "b = sp.Matrix(4,1,[b1,0,0,b2])\n",
    "\n",
    "sol, = sp.linsolve((M,b),[A,B,C,D])\n",
    "\n",
    "# vertical velocity at upper surface of ice sheet\n",
    "w_h = expk*sol[0] + (1/expk)*sol[1] + k*expk*sol[2] + (k/expk)*sol[3]\n"
   ]
  },
  {
   "attachments": {},
   "cell_type": "markdown",
   "metadata": {},
   "source": [
    "Print the vertical velocity at the upper surface in terms of $h$ and $s$:"
   ]
  },
  {
   "cell_type": "code",
   "execution_count": 12,
   "metadata": {},
   "outputs": [
    {
     "name": "stdout",
     "output_type": "stream",
     "text": [
      "          2⋅k       4⋅k                3⋅k           k         3⋅k         k\n",
      "- 4⋅b₁⋅k⋅ℯ    - b₁⋅ℯ    + b₁ + 2⋅b₂⋅k⋅ℯ    + 2⋅b₂⋅k⋅ℯ  + 2⋅b₂⋅ℯ    - 2⋅b₂⋅ℯ \n",
      "────────────────────────────────────────────────────────────────────────────\n",
      "                          2  2⋅k    4⋅k      2⋅k                            \n",
      "                       4⋅k ⋅ℯ    - ℯ    + 2⋅ℯ    - 1                        \n"
     ]
    }
   ],
   "source": [
    "\n",
    "# # print the result (modulo a 1/k factor) for floating ice:\n",
    "#sp.pprint(sp.collect(sp.collect(sp.collect(sp.simplify(w_h),b1),b2),expk) )\n",
    "d = b2+b1\n",
    "sp.pprint(sp.simplify(w_h))"
   ]
  },
  {
   "attachments": {},
   "cell_type": "markdown",
   "metadata": {},
   "source": [
    "Print the vertical velocity at the lower surface in terms of $h$ and $s$:"
   ]
  },
  {
   "cell_type": "code",
   "execution_count": 4,
   "metadata": {},
   "outputs": [
    {
     "name": "stdout",
     "output_type": "stream",
     "text": [
      "   ⎛           k               3⋅k⎞      ⎛     2⋅k    4⋅k    ⎞\n",
      "b₁⋅⎝(2 - 2⋅k)⋅ℯ  + (-2⋅k - 2)⋅ℯ   ⎠ + b₂⋅⎝4⋅k⋅ℯ    + ℯ    - 1⎠\n",
      "──────────────────────────────────────────────────────────────\n",
      "                  ⎛   2    ⎞  2⋅k    4⋅k                      \n",
      "                  ⎝4⋅k  + 2⎠⋅ℯ    - ℯ    - 1                  \n"
     ]
    }
   ],
   "source": [
    "\n",
    "# Also need to print w_b for floating ice, since it is part of the solution\n",
    "# (modulo a 1/k factor)\n",
    "w_b = sol[0]+sol[1]\n",
    "\n",
    "# # print this:\n",
    "sp.pprint(sp.collect(sp.collect(sp.collect(sp.simplify(w_b),b1),b2),expk) )"
   ]
  }
 ],
 "metadata": {
  "kernelspec": {
   "display_name": "base",
   "language": "python",
   "name": "python3"
  },
  "language_info": {
   "codemirror_mode": {
    "name": "ipython",
    "version": 3
   },
   "file_extension": ".py",
   "mimetype": "text/x-python",
   "name": "python",
   "nbconvert_exporter": "python",
   "pygments_lexer": "ipython3",
   "version": "3.9.13"
  },
  "orig_nbformat": 4
 },
 "nbformat": 4,
 "nbformat_minor": 2
}
