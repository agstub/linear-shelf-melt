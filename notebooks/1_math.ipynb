{
 "cells": [
  {
   "cell_type": "markdown",
   "id": "better-financing",
   "metadata": {},
   "source": [
    "This notebook plots the main mathematical quantities in the ice-shelf perturbation problem,\n",
    "which is described in much more detail in the notes. In words, we consider perturbations to an ice-shelf\n",
    "equilbrium state (uniform flow the $x$ direction) that are driven by melting or freezing at the base (ice-ocean interface).\n",
    "\n",
    "Briefly, all lengths are scaled by the ice thickness $H$ and times are scaled by the charactersitc relaxation time\n",
    "$t_r = 2\\eta/(\\rho_\\mathrm{i}gH)$.\n",
    "\n",
    "The problem is succintly stated as the differential equation\n",
    "$$\\frac{\\partial \\pmb{y}}{\\partial t} = \\mathsf{A}\\pmb{y} + \\pmb{b}. $$ \n",
    "Here, the solution is the vector \n",
    "$$ \\pmb{y} = [\\widehat{h},\\widehat{s}]^T $$\n",
    "that contains the Fourier-transformed upper-surface elevation $h$ and lower-surface elevation $s$ perturbations. \n",
    "The Fourier transforms are taken with respect to the horizontal coordinates $(x,y)$. Below, $k$ denotes the magnitude\n",
    "of the wavevector $\\pmb{k}=[k_x,k_y]^T$.\n",
    "The forcing vector \n",
    "$$\\pmb{b}=[0,\\widehat{m}]^T$$\n",
    "contains the Fourier-transformed basal melting (or freezing) rate $m$. Finally, the coefficient matrix\n",
    "is defined by $$\\mathsf{A} = -\\begin{bmatrix}\n",
    "ik_x\\alpha + \\mathsf{R} & \\delta \\mathsf{B} \\\\\n",
    " \\mathsf{B} & ik_x\\alpha + \\delta \\mathsf{R}\n",
    "\\end{bmatrix},$$\n",
    "where $\\delta = \\rho_\\mathrm{w}/\\rho_\\mathrm{i}-1$ is the flotation factor, $\\mathsf{R}(k)$ is a topographic relaxation function, $\\mathsf{B}(k)$ describes transfer of buoyancy forcing between the upper and lower surfaces,\n",
    "and $\\alpha$ is advection from the background flow. Expressions for the buoyancy and relaxation functions in terms of the wavevector magnitude $k$\n",
    "are provided in the notes.\n",
    "\n",
    "In this notebook, we will be looking at: \n",
    "\n",
    "1. the properties of $\\mathsf{R}$ and $\\mathsf{B}$, \n",
    "2. the eigenvalues and eigenvectors of $\\mathsf{A}$, \n",
    "3. the integral kernels $\\mathsf{K}_h$ and $\\mathsf{K}_s$ that are related to the\n",
    "elevation solutions via $$\\widehat{h} = \\widehat{m}*\\mathsf{K}_h \\\\\n",
    "\\widehat{s} = \\widehat{m}*\\mathsf{K}_s $$\n",
    "   where $*$ denotes convolution over time.\n",
    "4. the horizontal velocity \"response\" functions $\\mathsf{U}_h$ and $\\mathsf{U}_s$ that are related to $h$ and \n",
    "$s$ via $$ \\widehat{u} = \\frac{ik_x}{k^2}\\left(\\mathsf{U}_h \\widehat{h} + \\mathsf{U}_s\\delta \\widehat{s}\\right) $$ \n",
    "$$ \\widehat{v} = \\frac{ik_y}{k^2}\\left(\\mathsf{U}_h \\widehat{h} + \\mathsf{U}_s\\delta \\widehat{s}\\right) $$ \n",
    "where $[u,v]^T$ is the horizontal velocity perturbation. "
   ]
  },
  {
   "cell_type": "markdown",
   "id": "classified-namibia",
   "metadata": {},
   "source": [
    "First we import all of the relevant functions and modules:"
   ]
  },
  {
   "cell_type": "code",
   "execution_count": null,
   "id": "dramatic-estate",
   "metadata": {},
   "outputs": [],
   "source": [
    "# add path to code\n",
    "import sys\n",
    "sys.path.insert(0, '../code')\n",
    "import numpy as np\n",
    "import matplotlib.pyplot as plt \n",
    "import matplotlib.colors as colors\n",
    "import params as p\n",
    "from kernel_fcns import R,B,ker_h,ker_s,Lamda_p,Lamda_m,Uh,Us"
   ]
  },
  {
   "cell_type": "markdown",
   "id": "suitable-trainer",
   "metadata": {},
   "source": [
    "Plot the functions $\\mathsf{R}$ and $\\mathsf{B}$, as well as their difference and quotient, over a range of $k$:"
   ]
  },
  {
   "cell_type": "code",
   "execution_count": null,
   "id": "aggressive-mexico",
   "metadata": {},
   "outputs": [],
   "source": [
    "k = np.linspace(1e-3,1e2,num=10000)/(2*np.pi)\n",
    "plt.close()\n",
    "plt.figure(figsize=(8,4))\n",
    "plt.plot(2*np.pi*k,R(k)-B(k),color='royalblue',linestyle='--',linewidth=2)\n",
    "plt.plot(2*np.pi*k,B(k)/R(k),color='forestgreen',linestyle=':',linewidth=2)\n",
    "plt.plot(2*np.pi*k,R(k),color='k',linewidth=3,label=r'$\\mathsf{R}$')\n",
    "plt.plot(2*np.pi*k,B(k),color='k',linestyle='-.',linewidth=3,label=r'$\\mathsf{B}$')\n",
    "plt.plot(2*np.pi*k,1e20+0*k,color='royalblue',linestyle='--',linewidth=2,label=r'$\\mathsf{R}-\\mathsf{B}$')\n",
    "plt.plot(2*np.pi*k,1e20+0*k,color='forestgreen',linestyle=':',linewidth=2,label=r'$\\mathsf{B}\\,/\\,\\mathsf{R}$')\n",
    "plt.axhline(y=0,color='k',linestyle='--',linewidth=1)\n",
    "plt.xscale('log')\n",
    "plt.xlabel(r'$k$',fontsize=20)\n",
    "plt.ylim(1e-5,2e0)\n",
    "plt.yticks(fontsize=16)\n",
    "plt.xticks(fontsize=16)\n",
    "plt.legend(bbox_to_anchor=(1.35,0.75),fontsize=18)\n",
    "plt.tight_layout()\n",
    "plt.savefig('RB_functions',bbox_inches='tight')\n",
    "plt.show()\n",
    "plt.close()"
   ]
  },
  {
   "cell_type": "markdown",
   "id": "religious-tract",
   "metadata": {},
   "source": [
    "The main point of this plot is that, while $\\mathsf{R}$ and $\\mathsf{B}$ are singular in the limit $k\\to 0$, their difference and quotient are well-behaved. "
   ]
  },
  {
   "cell_type": "markdown",
   "id": "opponent-clothing",
   "metadata": {},
   "source": [
    "Next we plot the (real part of) the eigenvalues $\\{\\lambda_+,\\lambda_-\\}$ of the matrix $\\mathsf{A}$:"
   ]
  },
  {
   "cell_type": "code",
   "execution_count": null,
   "id": "planned-jamaica",
   "metadata": {},
   "outputs": [],
   "source": [
    "k = np.linspace(1e-3,1e2,num=10000)/(2*np.pi)\n",
    "Lp = Lamda_p(k,0*k,0).real\n",
    "Lm = Lamda_m(k,0*k,0).real\n",
    "\n",
    "plt.figure(figsize=(7,4))\n",
    "plt.plot(2*np.pi*k,Lp,color='k',linewidth=3,label=r'$\\lambda_+$')\n",
    "plt.plot(2*np.pi*k,Lm,color='k',linestyle='-.',linewidth=3,label=r'$\\lambda_-$')\n",
    "plt.xlabel(r'$k$',fontsize=20)\n",
    "plt.axhline(y=-p.delta/(p.delta+1)/2,color='crimson',xmax=0.75,linestyle='--',linewidth=1,label=r'$\\frac{-\\delta}{2(\\delta+1)}$')\n",
    "plt.ylabel(r'$\\mathrm{Re}(\\lambda)$',fontsize=20)\n",
    "plt.xscale('log')\n",
    "plt.ylim(-1e-1,0)\n",
    "plt.xlim(1e-3,1e2)\n",
    "plt.xticks(fontsize=16)\n",
    "plt.yticks(fontsize=16)\n",
    "plt.legend(loc='lower left',fontsize=18)\n",
    "plt.tight_layout()\n",
    "plt.savefig('eigenvalues',bbox_inches='tight')\n",
    "plt.show()\n",
    "plt.close()"
   ]
  },
  {
   "cell_type": "markdown",
   "id": "unlike-honor",
   "metadata": {},
   "source": [
    "The main points here are that both eigenvalues are negative (implies steady solutions are stable) and the larger one $\\lambda_-$ remains bounded as $k\\to 0$."
   ]
  },
  {
   "cell_type": "markdown",
   "id": "inner-illness",
   "metadata": {},
   "source": [
    "(The limiting value $\\lambda_+\\to -\\frac{1}{2}\\frac{\\delta}{\\delta+1}$ as $k\\to 0$ is derived in the algebra.py file)"
   ]
  },
  {
   "cell_type": "markdown",
   "id": "upper-fancy",
   "metadata": {},
   "source": [
    "Next we plot the (normalized) eigenvectors $\\pmb{\\varphi}_+$ and $\\pmb{\\varphi}_-$ of the matrix $\\mathsf{A}$. (These vectors have components that influence $\\widehat{h}$ and $\\widehat{s}$)."
   ]
  },
  {
   "cell_type": "code",
   "execution_count": null,
   "id": "human-walker",
   "metadata": {},
   "outputs": [],
   "source": [
    "k = np.linspace(1e-3,1e2,num=1000)/(2*np.pi)\n",
    "R_ = R(k)\n",
    "B_ = B(k)\n",
    "chi = (1-p.delta)*R_\n",
    "mu = np.sqrt(4*p.delta*(B_)**2 + chi**2)\n",
    "\n",
    "vmh = (R_*(1-p.delta) + mu)/(2*B_)\n",
    "vph = (R_*(1-p.delta) - mu)/(2*B_)\n",
    "\n",
    "vps = 1/np.sqrt(1+vph**2)\n",
    "vms = 1/np.sqrt(1+vmh**2)\n",
    "\n",
    "vph = vph/np.sqrt(1+vph**2)\n",
    "vmh = vmh/np.sqrt(1+vmh**2)\n",
    "\n",
    "plt.close()\n",
    "plt.figure(figsize=(6,6))\n",
    "plt.subplot(211)\n",
    "plt.plot(2*np.pi*k,vmh,color='k',linewidth=3,label=r'$h$')\n",
    "plt.plot(2*np.pi*k,vms,color='k',linestyle='-.',linewidth=3,label=r'$s$')\n",
    "plt.xscale('log')\n",
    "plt.xlim(1e-3,1e2)\n",
    "plt.yticks(fontsize=16)\n",
    "plt.gca().xaxis.set_ticklabels([])\n",
    "plt.ylabel(r'$\\mathbf{\\varphi}_-$ (normalized)',fontsize=18)\n",
    "\n",
    "plt.subplot(212)\n",
    "plt.plot(2*np.pi*k,vph,color='k',linewidth=3,label=r'$h$ comp.')\n",
    "plt.plot(2*np.pi*k,vps,color='k',linestyle='-.',linewidth=3,label=r'$s$ comp.')\n",
    "plt.axhline(y=-p.delta,color='crimson',xmax=0.75,linestyle='--',linewidth=1,label=r'$-\\delta$')\n",
    "plt.xlabel(r'$k$',fontsize=20)\n",
    "plt.ylabel(r'$\\mathbf{\\varphi}_+$ (normalized)',fontsize=18)\n",
    "plt.xscale('log')\n",
    "plt.xlim(1e-3,1e2)\n",
    "plt.xticks(fontsize=16)\n",
    "plt.yticks(fontsize=16)\n",
    "plt.legend(bbox_to_anchor=(1.01,1.5),fontsize=18)\n",
    "plt.savefig('eigenvectors',bbox_inches='tight')\n",
    "plt.show()\n",
    "plt.close()"
   ]
  },
  {
   "cell_type": "markdown",
   "id": "allied-campus",
   "metadata": {},
   "source": [
    "Here, the main points are that the eigenvector $\\pmb{\\varphi}_+$ corresponding to the larger eigenvalue $\\lambda_+$ approaches\n",
    "$[-\\delta,1]^T$, which serves to drive the solution towards the perfect flotations condition $h=-\\delta s$\n",
    "in the limit $k\\to 0$. In the short-wavelength limit ($k\\gg 1$), the eigenvectors approach $[1,0]^T$ and $[0,1]^T$, meaning that the upper and lower elevations cease to be coupled. Finally, the long-wavelength limit of the other eigenvector $\\pmb{\\varphi}_-\\to [1,1]^T$\n",
    "allows for deviation from perfect flotation, although this is not a very strong effect because the corresponding eigenvalue $\\lambda_-$ becomes very negative (see previous plot)."
   ]
  },
  {
   "cell_type": "markdown",
   "id": "scientific-absorption",
   "metadata": {},
   "source": [
    "Next we will plot the solution kernels $\\mathsf{K}_h(k,t)$ and $\\mathsf{K}_s(k,t)$ against $t$ and $k$.\n",
    "(We actually plot $-\\mathsf{K}_h/\\delta$ because its range is $[0,1]$--see the notes)."
   ]
  },
  {
   "cell_type": "code",
   "execution_count": null,
   "id": "ambient-planning",
   "metadata": {},
   "outputs": [],
   "source": [
    "k0 = np.linspace(1e-3,1e2,num=1000)/(2*np.pi)\n",
    "t0 = np.linspace(0,1e2,num=1000)\n",
    "t,k = np.meshgrid(t0,k0)\n",
    "Kh0 = ker_h(t,k,0*k,0).real\n",
    "Ks0 = ker_s(t,k,0*k,0).real"
   ]
  },
  {
   "cell_type": "code",
   "execution_count": null,
   "id": "turkish-visiting",
   "metadata": {},
   "outputs": [],
   "source": [
    "import warnings\n",
    "warnings.filterwarnings(\"ignore\")\n",
    "import matplotlib.patches as patches\n",
    "\n",
    "levels=np.linspace(0,1,num=6)\n",
    "\n",
    "box1 = patches.Rectangle((2*np.pi*1.6e-4, 0.9e-1), 1, 1e2, linewidth=3, linestyle='--',edgecolor='xkcd:coral', facecolor='none')\n",
    "box2 = patches.Rectangle((2*np.pi*1.6e-4, 0.9e-1), 1, 1e2, linewidth=3, linestyle='--', edgecolor='xkcd:coral', facecolor='none')\n",
    "\n",
    "# Add the patch to the Axes\n",
    "\n",
    "plt.close()\n",
    "fig = plt.figure(figsize=(8,3.5))\n",
    "plt.subplot(121)\n",
    "plt.title(r'(a) $\\mathrm{Re}(\\mathsf{K}_s)$',fontsize=22,loc='left')\n",
    "plt.contourf(2*np.pi*k0,t0,Ks0.T,cmap='Blues',vmin=0,vmax=1,levels=levels)\n",
    "plt.yticks(fontsize=16)\n",
    "plt.xticks(fontsize=16)\n",
    "plt.ylabel(r'$t$',fontsize=20)\n",
    "plt.xlabel(r'$k$',fontsize=20)\n",
    "plt.xscale('log')\n",
    "plt.yscale('log')\n",
    "plt.annotate(xy=(2*np.pi*2e-4, 1.5e-1),text=r'$h\\approx-\\delta s$',fontsize=16,color='xkcd:coral')\n",
    "plt.ylim(1e-2,1e2)\n",
    "patch1 = plt.gca().add_patch(box1)\n",
    "patch1.set_clip_on(False)\n",
    "\n",
    "plt.subplot(122)\n",
    "plt.title(r'(b) $\\mathrm{Re}(-\\mathsf{K}_h\\,/\\,\\delta)$',loc='left',fontsize=22)\n",
    "p1 = plt.contourf(2*np.pi*k0,t0,-Kh0.T/p.delta,cmap='Blues',vmin=0,vmax=1,levels=levels)\n",
    "plt.xticks(fontsize=16)\n",
    "plt.xscale('log')\n",
    "plt.yscale('log')\n",
    "plt.gca().yaxis.set_ticklabels([])\n",
    "plt.xlabel(r'$k$',fontsize=20)\n",
    "plt.ylim(1e-2,1e2)\n",
    "patch2 = plt.gca().add_patch(box2)\n",
    "patch2.set_clip_on(False)\n",
    "\n",
    "\n",
    "fig.subplots_adjust(right=0.85)\n",
    "cbar_ax = fig.add_axes([1, 0.25, 0.02, 0.6])\n",
    "cbar = fig.colorbar(p1,cax=cbar_ax,orientation='vertical',ticks=levels)\n",
    "cbar.ax.tick_params(labelsize=16)\n",
    "plt.tight_layout()\n",
    "plt.savefig('kernels',bbox_inches='tight')\n",
    "plt.show()\n",
    "plt.close()"
   ]
  },
  {
   "cell_type": "markdown",
   "id": "received-integration",
   "metadata": {},
   "source": [
    "From the solution formulas in the introductory paragraph, it follows that perfect flotation ($h=-\\delta s$)\n",
    "arises when $\\mathsf{K}_h = -\\delta \\mathsf{K}_s$. The region that this is approximately satisfied for is shown by the dashed box in the above figure, roughly corresponding to $(k,t)\\in (0,1)\\times (10^{-1},\\infty)$. Therefore,\n",
    "deviation from perfect flotation occurs on fast timescales (relative to the relaxtion time) and short\n",
    "wavelengths."
   ]
  },
  {
   "cell_type": "markdown",
   "id": "private-march",
   "metadata": {},
   "source": [
    "Finally, we plot the velocity response functions described in the first paragraph:"
   ]
  },
  {
   "cell_type": "code",
   "execution_count": null,
   "id": "adolescent-greene",
   "metadata": {},
   "outputs": [],
   "source": [
    "k0 = np.linspace(1e-3,1e2,num=900)/(2*np.pi)\n",
    "z0 = np.linspace(0,1,num=1000)\n",
    "k_g,z_g = np.meshgrid(k0,z0)\n",
    "Uh_ = Uh(k_g,z_g)\n",
    "Us_ = Us(k_g,z_g)\n",
    "\n",
    "Uh_mean = np.mean(Uh_,axis=0)\n",
    "Us_mean = np.mean(Us_,axis=0)\n",
    "Uh_surf = Uh(k0,1)\n",
    "Us_surf = Us(k0,1)\n",
    "Uh_0 = Uh(k0,0)\n",
    "Us_0 = Us(k0,0)\n",
    "\n",
    "plt.close()\n",
    "plt.figure(figsize=(12,3))\n",
    "plt.subplot(131)\n",
    "plt.title(r'(a) $\\mathsf{U}_h$',loc='left',fontsize=22)\n",
    "plt.plot(2*np.pi*k0,Uh_0,color='darkblue',linestyle='--',linewidth=3,label=r'$z=0$')\n",
    "plt.plot(2*np.pi*k0,Uh_surf,color='forestgreen',linestyle='-.',linewidth=3,label=r'$z=1$')\n",
    "plt.plot(2*np.pi*k0,Uh_mean,color='k',linewidth=3,label=r'depth-averaged')\n",
    "plt.xscale('log')\n",
    "plt.xlabel(r'$k$',fontsize=20)\n",
    "plt.ylim(-1,1)\n",
    "plt.yticks(fontsize=16)\n",
    "plt.xticks(fontsize=16)\n",
    "\n",
    "plt.subplot(132)\n",
    "plt.title(r'(b) $\\mathsf{U}_s$',loc='left',fontsize=22)\n",
    "plt.plot(2*np.pi*k0,Us_0,color='darkblue',linestyle='--',linewidth=3,label=r'$z=0$')\n",
    "plt.plot(2*np.pi*k0,Us_surf,color='forestgreen',linestyle='-.',linewidth=3,label=r'$z=1$')\n",
    "plt.plot(2*np.pi*k0,Us_mean,color='k',linewidth=3,label='depth\\naveraged')\n",
    "plt.xscale('log')\n",
    "plt.xlabel(r'$k$',fontsize=20)\n",
    "plt.ylim(-1,1)\n",
    "plt.gca().yaxis.set_ticklabels([])\n",
    "plt.xticks(fontsize=16)\n",
    "plt.yticks(fontsize=16)\n",
    "\n",
    "plt.subplot(133)\n",
    "plt.title(r'(c) $\\mathsf{U}_h-\\mathsf{U}_s$',loc='left',fontsize=22)\n",
    "plt.plot(2*np.pi*k0,Uh_0 - Us_0,color='darkblue',linestyle='--',linewidth=3,label=r'$z=0$')\n",
    "plt.plot(2*np.pi*k0,Uh_surf - Us_surf,color='forestgreen',linestyle='-.',linewidth=3,label=r'$z=1$')\n",
    "plt.plot(2*np.pi*k0,Uh_mean-Us_mean,color='k',linewidth=3,label='depth\\naverage')\n",
    "plt.gca().yaxis.set_ticklabels([])\n",
    "plt.xlabel(r'$k$',fontsize=20)\n",
    "plt.xscale('log')\n",
    "plt.ylim(-1,1)\n",
    "plt.xticks(fontsize=16)\n",
    "plt.yticks(fontsize=16)\n",
    "plt.legend(bbox_to_anchor=(1.01,0.75),fontsize=16)\n",
    "\n",
    "#plt.tight_layout()\n",
    "plt.savefig('response_fcns',bbox_inches='tight')\n",
    "plt.show()\n",
    "plt.close()\n"
   ]
  },
  {
   "cell_type": "markdown",
   "id": "express-extra",
   "metadata": {},
   "source": [
    "First, note that when the ice thickness perturbation is approximately equal to the flotation thickness ($h\\approx -\\delta s$), we have that $\\widehat{u}$ and $\\widehat{v}$ are proportial to $\\mathsf{U}_h-\\mathsf{U}_s$. Therefore, the horizontal velocity will not vary with depth when $\\mathsf{U}_h-\\mathsf{U}_s$ does not vary with depth (this is important because a depth-indpendent assumption underlies traditional melt rate estimation methods). Panel (c) above shows that this is the case for long wavelengths. Panels (a) and (b) also show that the horizontal velocity perturbations will vanish at shorter wavelengths (see example in notes and next notebook file)."
   ]
  }
 ],
 "metadata": {
  "kernelspec": {
   "display_name": "Python 3",
   "language": "python",
   "name": "python3"
  },
  "language_info": {
   "codemirror_mode": {
    "name": "ipython",
    "version": 3
   },
   "file_extension": ".py",
   "mimetype": "text/x-python",
   "name": "python",
   "nbconvert_exporter": "python",
   "pygments_lexer": "ipython3",
   "version": "3.8.10"
  }
 },
 "nbformat": 4,
 "nbformat_minor": 5
}
