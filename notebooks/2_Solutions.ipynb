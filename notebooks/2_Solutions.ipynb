{
 "cells": [
  {
   "attachments": {},
   "cell_type": "markdown",
   "id": "modern-cleaning",
   "metadata": {},
   "source": [
    "This notebook is used to produce Figures 7-8 in the notes: steady-state solutions to the linearised problem for some different parameter choices."
   ]
  },
  {
   "cell_type": "code",
   "execution_count": null,
   "id": "542d70a7",
   "metadata": {},
   "outputs": [],
   "source": [
    "%load_ext autoreload\n",
    "%autoreload 2"
   ]
  },
  {
   "cell_type": "code",
   "execution_count": null,
   "id": "humanitarian-brazil",
   "metadata": {},
   "outputs": [],
   "source": [
    "# add path to code\n",
    "import sys\n",
    "sys.path.insert(0, '../linear-model')\n",
    "import numpy as np\n",
    "import matplotlib.pyplot as plt\n",
    "from scipy.interpolate import griddata\n",
    "from scipy.fft import ifft2,fft2\n",
    "from operators import compute_u,compute_w,h_steady,s_steady\n",
    "from params import *"
   ]
  },
  {
   "cell_type": "markdown",
   "id": "minor-assumption",
   "metadata": {},
   "source": [
    "Define the melt-rate perturbation:"
   ]
  },
  {
   "cell_type": "code",
   "execution_count": null,
   "id": "neither-bracelet",
   "metadata": {},
   "outputs": [],
   "source": [
    "# Figure 7: set sigma = 10.0/3.0 and L = 35 in linear-model/params.py\n",
    "# Figure 8: set sigma = 1.0/3.0 and L = 5 in linear-model/params.py\n",
    "sigma = 10.0/3.0                                                  # standard deviation for gaussian melt anomaly\n",
    "m = 5*np.exp(-0.5*(sigma**(-2))*(x**2+y**2 ))*(t_r/3.154e7)/H    # melt anomaly with amplitude of 5 m/yr\n",
    "\n",
    "print(np.abs(m).max())"
   ]
  },
  {
   "cell_type": "markdown",
   "id": "cutting-health",
   "metadata": {},
   "source": [
    "Define a vertical exaggeration for plotting the elevations (since these ones are a small fraction of the ice thickness):"
   ]
  },
  {
   "cell_type": "code",
   "execution_count": null,
   "id": "satellite-furniture",
   "metadata": {},
   "outputs": [],
   "source": [
    "ex = 1   # vertical exaggeration factor for free surface plotting"
   ]
  },
  {
   "cell_type": "markdown",
   "id": "beneficial-joshua",
   "metadata": {},
   "source": [
    "First we compute the solutions with a non-advective background state ($\\alpha=0$). The only annoying thing here is interpolating the velocities onto the deformed grid defined by $z\\mapsto (1-z)\\gamma s + z\\gamma h $ (for plotting), where $\\gamma$ is the vertical exaggeration factor. We are just setting $\\gamma=1$ in these examples."
   ]
  },
  {
   "cell_type": "code",
   "execution_count": null,
   "id": "minus-anthony",
   "metadata": {
    "scrolled": true
   },
   "outputs": [],
   "source": [
    "# First compute the elevation solutions\n",
    "\n",
    "alpha = 0\n",
    "h = h_steady(m,alpha)\n",
    "s = s_steady(m,alpha)\n",
    "\n",
    "# # extract the centerline profiles \n",
    "yc = int(Ny/2.)     # y index at centerline         \n",
    "hc = h[-1,:,yc] \n",
    "sc = s[-1,:,yc]\n",
    "mc = m[-1,:,yc]\n",
    "\n",
    "Nz = 22\n",
    "z_plt = np.linspace(0,1,num=Nz)\n",
    "U = np.zeros((Nt,Nx,Ny,Nz))\n",
    "W = np.zeros((Nt,Nx,Ny,Nz))\n",
    "\n",
    "for i in range(Nz):\n",
    "    U[:,:,:,i] = compute_u(h,s,z_plt[i])\n",
    "    W[:,:,:,i] = compute_w(h,s,z_plt[i],m)\n",
    "\n",
    "x_plt = x0\n",
    "Uc = U[-1,:,yc,:]\n",
    "Wc = W[-1,:,yc,:]\n",
    "\n",
    "\n",
    "# Next we interpolate the velocity solutions on the deformed grid for plotting\n",
    "\n",
    "x_g,z_g = np.meshgrid(x_plt,z_plt)\n",
    "\n",
    "z_d = (1-z_g)*ex*sc + z_g*(ex*hc+1)\n",
    "\n",
    "nxi = 101\n",
    "nzi = 101\n",
    "\n",
    "xi = np.linspace(x_g.min(),x_g.max(),num=nxi)\n",
    "zi = np.linspace(z_d.min(),z_d.max(),num=nzi)\n",
    "\n",
    "Xi,Zi = np.meshgrid(xi,zi)\n",
    "\n",
    "points = (x_g.flatten(),z_d.flatten())\n",
    "points_i = (Xi,Zi)\n",
    "\n",
    "Uc = griddata(points=points,values=Uc.T.flatten(), xi=points_i,fill_value=0)\n",
    "Wc = griddata(points=points,values=Wc.T.flatten(), xi=points_i,fill_value=0)\n",
    "speed = np.sqrt(Uc**2 + Wc**2)\n"
   ]
  },
  {
   "cell_type": "code",
   "execution_count": null,
   "id": "535635a0",
   "metadata": {},
   "outputs": [],
   "source": [
    "# Print some sanity-check information:\n",
    "print('With the scales in params.py:')\n",
    "print('max u = '+str(np.max(np.abs(Uc))*3.154e7*H/t_r)+' m/yr')\n",
    "print('max w = '+str(np.max(np.abs(Wc))*3.154e7*H/t_r)+' m/yr')\n",
    "print('min w = '+str(np.min(np.abs(Wc))*3.154e7*H/t_r)+' m/yr')\n",
    "print('max h = '+str(np.max(np.abs(hc))*H)+' m')\n",
    "print('max s = '+str(np.max(np.abs(sc))*H)+' m')"
   ]
  },
  {
   "cell_type": "markdown",
   "id": "sapphire-browse",
   "metadata": {},
   "source": [
    "Repeat the above steps for a positive value of the background advection parameter:"
   ]
  },
  {
   "cell_type": "code",
   "execution_count": null,
   "id": "typical-schedule",
   "metadata": {},
   "outputs": [],
   "source": [
    "alpha_2 = 2e-1\n",
    "m_2 = -5*np.exp(-0.5*(sigma**(-2))*(x**2+y**2 ))*(t_r/3.154e7)/H\n",
    "h_2 = h_steady(m_2,alpha_2)\n",
    "s_2 = s_steady(m_2,alpha_2)\n",
    "hc_2 = h_2[-1,:,yc] \n",
    "sc_2 = s_2[-1,:,yc]\n",
    "mc_2 = m_2[-1,:,yc]\n",
    "\n",
    "U_2 = np.zeros((Nt,Nx,Ny,Nz))\n",
    "W_2 = np.zeros((Nt,Nx,Ny,Nz))\n",
    "\n",
    "for i in range(Nz):\n",
    "    U_2[:,:,:,i] = compute_u(h_2,s_2,z_plt[i])\n",
    "    W_2[:,:,:,i] = compute_w(h_2,s_2,z_plt[i],m_2)\n",
    "\n",
    "Uc_2 = U_2[-1,:,yc,:]\n",
    "Wc_2 = W_2[-1,:,yc,:]\n",
    "\n",
    "\n",
    "# Next we interpolate the velocity solutions on the deformed grid for plotting\n",
    "\n",
    "x_g,z_g = np.meshgrid(x_plt,z_plt)\n",
    "\n",
    "z_d = (1-z_g)*ex*sc_2 + z_g*(ex*hc_2+1)\n",
    "\n",
    "xi_2 = np.linspace(x_g.min(),x_g.max(),num=nxi)\n",
    "zi_2 = np.linspace(z_d.min(),z_d.max(),num=nzi)\n",
    "\n",
    "Xi_2,Zi_2 = np.meshgrid(xi_2,zi_2)\n",
    "\n",
    "points = (x_g.flatten(),z_d.flatten())\n",
    "points_i = (Xi_2,Zi_2)\n",
    "\n",
    "Uc_2 = griddata(points=points,values=Uc_2.T.flatten(), xi=points_i,fill_value=0)\n",
    "Wc_2 = griddata(points=points,values=Wc_2.T.flatten(), xi=points_i,fill_value=0)\n",
    "speed_2 = np.sqrt(Uc_2**2 + Wc_2**2)"
   ]
  },
  {
   "cell_type": "code",
   "execution_count": null,
   "id": "8e1e9b88",
   "metadata": {},
   "outputs": [],
   "source": [
    "# Print some sanity-check information:\n",
    "print('With the scales in params.py:')\n",
    "print('max u = '+str(np.max(np.abs(Uc_2))*3.154e7*H/t_r)+' m/yr')\n",
    "print('max w = '+str(np.max(np.abs(Wc_2))*3.154e7*H/t_r)+' m/yr')\n",
    "print('max h = '+str(np.max(np.abs(hc_2))*H)+' m')\n",
    "print('max s = '+str(np.max(np.abs(sc_2))*H)+' m')"
   ]
  },
  {
   "cell_type": "markdown",
   "id": "annoying-result",
   "metadata": {},
   "source": [
    "Plot both solutions:"
   ]
  },
  {
   "cell_type": "code",
   "execution_count": null,
   "id": "protecting-rochester",
   "metadata": {
    "scrolled": true
   },
   "outputs": [],
   "source": [
    "plt.close()\n",
    "fig = plt.figure(figsize=(14,4))\n",
    "\n",
    "plt.subplot(121)\n",
    "plt.title(r'(a) $\\alpha=0$',fontsize=20,loc='left',zorder=100)\n",
    "plt.plot(x0,ex*sc,linewidth=2.5,color='darkblue',zorder=16,label=r'$\\gamma s$')\n",
    "plt.plot(x0,ex*hc+1,linewidth=2.5,color='forestgreen',zorder=13,label=r'$1+\\gamma h$')\n",
    "plt.fill_between(x0,y1=ex*hc+1,y2=2*np.ones(np.size(x0)),facecolor='w',alpha=1.0,zorder=10)\n",
    "plt.fill_between(x0,y1=ex*sc, y2=ex*hc+1,facecolor='aliceblue',alpha=1.0)\n",
    "plt.fill_between(x0,y1=-2*np.ones(np.size(x0)), y2=ex*sc,facecolor='lightsteelblue',alpha=1,zorder=15)\n",
    "stream = plt.streamplot(xi,zi,Uc/speed.max(),Wc/speed.max(),color=speed/speed.max(),arrowsize=1.5,linewidth=2.5,minlength=0.5,density=2,cmap='Reds')\n",
    "plt.annotate(xy=(-L+0.1,1.03),text='air',fontsize=20,zorder=30)\n",
    "plt.annotate(xy=(-L+0.1,0.05),text='ice',fontsize=20,zorder=31)\n",
    "plt.annotate(xy=(-L+0.1,-0.12),text='water',fontsize=20,zorder=32)\n",
    "    \n",
    "plt.ylabel(r'$z$',fontsize=20,labelpad=-5)\n",
    "plt.xlabel(r'$x$',fontsize=20)\n",
    "plt.xticks(fontsize=16)\n",
    "plt.yticks(fontsize=16)\n",
    "plt.ylim(-0.5,1.25)\n",
    "plt.xlim(-0.8*L,0.8*L)\n",
    "\n",
    "axins = plt.gca().inset_axes([0.0, -0.85,1, 0.25],sharex=plt.gca())\n",
    "axins.plot(x0,mc,linewidth=2,color='darkorange',linestyle='-')\n",
    "axins.set_ylabel(r'$m$',fontsize=16,color='k')\n",
    "axins.set_ylim(-np.abs(m).max()-2e-2,np.abs(m).max()+2e-2)\n",
    "axins.tick_params(axis='y', which='major', labelsize=16,color='k',labelcolor='k')\n",
    "axins.tick_params(axis='x',direction=\"in\",which='major', labelsize=16,top=True, labeltop=True, bottom=False, labelbottom=False)\n",
    "plt.setp(axins.get_xticklabels(), visible=False)\n",
    "\n",
    "axins = plt.gca().inset_axes([0.0, -0.5,1, 0.25],sharex=plt.gca())\n",
    "axins.plot(x0,hc,linewidth=2,color='forestgreen',linestyle='-')\n",
    "axins.plot(x0,-delta*sc,linewidth=2,color='k',linestyle='--')\n",
    "axins.set_ylabel(r'$-\\delta s$, $h$',fontsize=16,color='k')\n",
    "axins.set_ylim(-np.abs(delta*sc).max()-0.01, 0.01)\n",
    "axins.tick_params(axis='y', which='major', labelsize=16,color='k',labelcolor='k')\n",
    "axins.tick_params(axis='x',direction=\"in\",which='major', labelsize=16,top=True, labeltop=True, bottom=False, labelbottom=False)\n",
    "plt.setp(axins.get_xticklabels(), visible=False)\n",
    "\n",
    "plt.subplot(122)\n",
    "plt.title(r'(b) $\\alpha={1}/{5}$',fontsize=20,loc='left',zorder=100)\n",
    "plt.plot(x0,ex*hc_2+1,linewidth=2.5,color='forestgreen',zorder=13,label=r'$ h$')\n",
    "plt.plot(x0,ex*sc_2,linewidth=2.5,color='darkblue',zorder=16,label=r'$ s$')\n",
    "plt.plot(x0,ex*(-delta*sc_2)+10,linewidth=2.5,color='k',linestyle='--',zorder=80,label=r'$-\\delta s$') # just for labelling...\n",
    "plt.plot(x0,ex*(-delta*sc_2)+10,linewidth=2.5,color='darkorange',linestyle='-',zorder=80,label=r'$m$') # just for labelling...\n",
    "plt.fill_between(x0,y1=ex*hc_2+1,y2=2*np.ones(np.size(x0)),facecolor='w',alpha=1.0,zorder=10)\n",
    "plt.fill_between(x0,y1=ex*sc_2, y2=ex*hc_2+1,facecolor='aliceblue',alpha=1.0)\n",
    "plt.fill_between(x0,y1=-2*np.ones(np.size(x0)), y2=ex*sc_2,facecolor='lightsteelblue',alpha=1,zorder=15)\n",
    "stream = plt.streamplot(xi_2,zi_2,Uc_2/speed_2.max(),Wc_2/speed_2.max(),color=speed_2/speed_2.max(),arrowsize=1.5,linewidth=2.5,minlength=0.5,density=2,cmap='Reds')\n",
    "plt.xlabel(r'$x$',fontsize=20)\n",
    "plt.ylabel(r'$z$',fontsize=20,labelpad=-5)\n",
    "plt.xticks(fontsize=16)\n",
    "plt.gca().yaxis.tick_right()\n",
    "plt.gca().yaxis.set_label_position(\"right\")\n",
    "plt.yticks(fontsize=16)\n",
    "plt.ylim(-0.5,1.25)\n",
    "plt.xlim(-0.8*L,0.8*L)\n",
    "\n",
    "axins = plt.gca().inset_axes([0.0, -0.85,1, 0.25],sharex=plt.gca())\n",
    "axins.plot(x0,mc_2,linewidth=2,color='darkorange',linestyle='-')\n",
    "axins.set_ylabel(r'$m$',fontsize=16,color='k')\n",
    "axins.yaxis.set_label_position(\"right\")\n",
    "axins.set_ylim(-np.abs(m_2).max()-2e-2,np.abs(m_2).max()+2e-2)\n",
    "axins.yaxis.set_offset_position('right')\n",
    "axins.tick_params(axis='y', which='major', labelsize=16,color='k',labelcolor='k',left=False, labelleft=False, right=True, labelright=True)\n",
    "axins.tick_params(axis='x',direction=\"in\",which='major', labelsize=16,top=True, labeltop=True, bottom=False, labelbottom=False)\n",
    "plt.setp(axins.get_xticklabels(), visible=False)\n",
    "\n",
    "axins = plt.gca().inset_axes([0.0, -0.5,1, 0.25],sharex=plt.gca())\n",
    "axins.plot(x0,hc_2,linewidth=2,color='forestgreen',linestyle='-')\n",
    "axins.plot(x0,-delta*sc_2,linewidth=2,color='k',linestyle='--')\n",
    "axins.set_ylabel(r'$-\\delta s$, $h$',fontsize=16,color='k')\n",
    "axins.yaxis.set_label_position(\"right\")\n",
    "axins.set_ylim(-0.005,np.abs(delta*sc_2).max()+0.005)\n",
    "axins.yaxis.set_offset_position('right')\n",
    "axins.tick_params(axis='y', which='major', labelsize=16,color='k',labelcolor='k',left=False, labelleft=False, right=True, labelright=True)\n",
    "axins.tick_params(axis='x',direction=\"in\",which='major', labelsize=16,top=True, labeltop=True, bottom=False, labelbottom=False)\n",
    "plt.setp(axins.get_xticklabels(), visible=False)\n",
    "\n",
    "plt.legend(fontsize=20,ncol=4,bbox_to_anchor=(0.6,-0.9))\n",
    "\n",
    "fig.subplots_adjust(right=0.85)\n",
    "cbar_ax = fig.add_axes([0.925, 0.12, 0.02, 0.75])\n",
    "cbar = fig.colorbar(stream.lines,cax=cbar_ax,orientation='vertical')\n",
    "cbar.ax.tick_params(labelsize=16)\n",
    "cbar.set_label(r'$|\\mathbf{u}|\\,/\\, \\Vert\\mathbf{u}\\Vert_\\infty$',fontsize=24,labelpad=10)\n",
    "cbar.ax.tick_params(labelsize=16)\n",
    "if sigma>2:\n",
    "    plt.savefig('fig7',bbox_inches='tight')\n",
    "else:\n",
    "    plt.savefig('fig8',bbox_inches='tight')\n",
    "plt.show()"
   ]
  }
 ],
 "metadata": {
  "kernelspec": {
   "display_name": "Python 3 (ipykernel)",
   "language": "python",
   "name": "python3"
  },
  "language_info": {
   "codemirror_mode": {
    "name": "ipython",
    "version": 3
   },
   "file_extension": ".py",
   "mimetype": "text/x-python",
   "name": "python",
   "nbconvert_exporter": "python",
   "pygments_lexer": "ipython3",
   "version": "3.9.13"
  }
 },
 "nbformat": 4,
 "nbformat_minor": 5
}
