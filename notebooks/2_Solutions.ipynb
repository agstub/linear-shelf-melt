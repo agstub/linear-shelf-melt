{
 "cells": [
  {
   "attachments": {},
   "cell_type": "markdown",
   "id": "modern-cleaning",
   "metadata": {},
   "source": [
    "This notebook is used to produce Figures 7-9 in the notes: steady-state solutions for some different parameter choices."
   ]
  },
  {
   "cell_type": "code",
   "execution_count": null,
   "id": "542d70a7",
   "metadata": {},
   "outputs": [],
   "source": [
    "%load_ext autoreload\n",
    "%autoreload 2"
   ]
  },
  {
   "cell_type": "code",
   "execution_count": null,
   "id": "humanitarian-brazil",
   "metadata": {},
   "outputs": [],
   "source": [
    "# add path to code\n",
    "import sys\n",
    "sys.path.insert(0, '../code')\n",
    "import numpy as np\n",
    "import matplotlib.pyplot as plt\n",
    "from scipy.interpolate import griddata\n",
    "from scipy.fft import ifft2,fft2\n",
    "from operators import compute_u,compute_w,compute_h,compute_s,h_steady,s_steady\n",
    "from params import *"
   ]
  },
  {
   "cell_type": "markdown",
   "id": "minor-assumption",
   "metadata": {},
   "source": [
    "Define the melt-rate perturbation:"
   ]
  },
  {
   "cell_type": "code",
   "execution_count": null,
   "id": "neither-bracelet",
   "metadata": {},
   "outputs": [],
   "source": [
    "sigma = 10.0/3.0                                                    # standard deviation for gaussian melt anomaly\n",
    "\n",
    "# For Figure 8 (melting) set:\n",
    "m = 5*np.exp(-0.5*(sigma**(-2))*(x**2+y**2 ))*(t_r/3.154e7)/H     # melt anomaly with amplitude of 5 m/yr\n",
    "\n",
    "# For Figure 9 and 10 set the negative version (freeze-on):\n",
    "# m = 5*np.exp(-0.5*(sigma**(-2))*(x**2+y**2 ))*(t_r/3.154e7)/H    # melt anomaly with amplitude of 5 m/yr\n"
   ]
  },
  {
   "cell_type": "markdown",
   "id": "cutting-health",
   "metadata": {},
   "source": [
    "Define a vertical exaggeration for plotting the elevations (since these ones are a small fraction of the ice thickness):"
   ]
  },
  {
   "cell_type": "code",
   "execution_count": null,
   "id": "satellite-furniture",
   "metadata": {},
   "outputs": [],
   "source": [
    "ex = 4e1   # vertical exaggeration factor"
   ]
  },
  {
   "cell_type": "markdown",
   "id": "beneficial-joshua",
   "metadata": {},
   "source": [
    "First we compute the solutions with a non-advective background state ($\\alpha=0$). The only annoying thing here is interpolating the velocities onto the deformed grid defined by $z\\mapsto (1-z)\\gamma s + z\\gamma h $ (for plotting), where $\\gamma$ is the vertical exaggeration factor."
   ]
  },
  {
   "cell_type": "code",
   "execution_count": null,
   "id": "minus-anthony",
   "metadata": {
    "scrolled": true
   },
   "outputs": [],
   "source": [
    "# First compute the elevation solutions\n",
    "\n",
    "alpha = 0\n",
    "h = compute_h(t,k,kx,alpha,m)\n",
    "s = compute_s(t,k,kx,alpha,m)\n",
    "# h = h_steady(k,alpha,m)\n",
    "# s = s_steady(k,alpha,m)\n",
    "\n",
    "# # extract the centerline profiles \n",
    "yc = int(Ny/2.)     # y index at centerline         \n",
    "hc = h[-1,:,yc] \n",
    "sc = s[-1,:,yc]\n",
    "mc = m[-1,:,yc]\n",
    "\n"
   ]
  },
  {
   "cell_type": "markdown",
   "id": "sapphire-browse",
   "metadata": {},
   "source": [
    "Repeat the above steps for a positive value of the background advection parameter:"
   ]
  },
  {
   "cell_type": "code",
   "execution_count": null,
   "id": "typical-schedule",
   "metadata": {},
   "outputs": [],
   "source": [
    "alpha_2 = 2e-1\n",
    "m_2 = -5*np.exp(-0.5*(sigma**(-2))*(x**2+y**2 ))*(t_r/3.154e7)/H\n",
    "h_2 = compute_h(t,k,kx,alpha_2,m_2)\n",
    "s_2 = compute_s(t,k,kx,alpha_2,m_2)\n",
    "# h_2 = h_steady(k,alpha_2,m_2)\n",
    "# s_2 = s_steady(k,alpha_2,m_2)\n",
    "hc_2 = h_2[-1,:,yc] \n",
    "sc_2 = s_2[-1,:,yc]\n",
    "mc_2 = m_2[-1,:,yc]\n",
    "\n"
   ]
  },
  {
   "cell_type": "markdown",
   "id": "annoying-result",
   "metadata": {},
   "source": [
    "Plot both solutions:"
   ]
  },
  {
   "cell_type": "code",
   "execution_count": null,
   "id": "protecting-rochester",
   "metadata": {
    "scrolled": true
   },
   "outputs": [],
   "source": [
    "plt.close()\n",
    "fig = plt.figure(figsize=(14,4))\n",
    "\n",
    "plt.subplot(121)\n",
    "plt.title(r'(a) $\\alpha=0$',fontsize=20,loc='left',zorder=100)\n",
    "plt.plot(x0,ex*sc,linewidth=2.5,color='darkblue',zorder=16,label=r'$\\gamma s$')\n",
    "plt.plot(x0,ex*hc+1,linewidth=2.5,color='forestgreen',zorder=13,label=r'$1+\\gamma h$')\n",
    "\n",
    "plt.plot(x0,ex*(-delta*sc)+1,linewidth=2.5,color='k',linestyle='--',zorder=80)\n",
    "\n",
    "plt.fill_between(x0,y1=ex*sc, y2=ex*hc+1,facecolor='aliceblue',alpha=1.0)\n",
    "plt.fill_between(x0,y1=-2*np.ones(np.size(x0)), y2=ex*sc,facecolor='lightsteelblue',alpha=1,zorder=15)\n",
    "\n",
    "plt.annotate(xy=(-L+0.1,1.03),text='air',fontsize=20,zorder=30)\n",
    "plt.annotate(xy=(-L+0.1,0.05),text='ice',fontsize=20,zorder=31)\n",
    "plt.annotate(xy=(-L+0.1,-0.12),text='water',fontsize=20,zorder=32)\n",
    "    \n",
    "plt.ylabel(r'$z$',fontsize=20)\n",
    "plt.xlabel(r'$x$',fontsize=20)\n",
    "plt.xticks(fontsize=16)\n",
    "plt.yticks(fontsize=16)\n",
    "plt.ylim(-0.5,1.25)\n",
    "plt.xlim(-L,L)\n",
    "\n",
    "axins = plt.gca().inset_axes([0.0, -0.5,1, 0.25],sharex=plt.gca())\n",
    "axins.plot(x0,mc,linewidth=2,color='crimson',linestyle='-')\n",
    "axins.set_ylabel(r'$m$',fontsize=16,color='crimson')\n",
    "axins.set_ylim(-np.abs(m).max()-2e-4,np.abs(m).max()+2e-4)\n",
    "axins.tick_params(axis='y', which='major', labelsize=16,color='crimson',labelcolor='crimson')\n",
    "axins.tick_params(axis='x',direction=\"in\",which='major', labelsize=16,top=True, labeltop=True, bottom=False, labelbottom=False)\n",
    "axins.ticklabel_format(axis='y', style='sci', scilimits=(-4,-4),useMathText=True)\n",
    "plt.setp(axins.get_xticklabels(), visible=False)\n",
    "\n",
    "plt.subplot(122)\n",
    "plt.title(r'(b) $\\alpha={1}/{5}$',fontsize=20,loc='left',zorder=100)\n",
    "\n",
    "plt.plot(x0,ex*sc_2,linewidth=2.5,color='darkblue',zorder=16,label=r'$\\gamma s$')\n",
    "plt.plot(x0,ex*hc_2+1,linewidth=2.5,color='forestgreen',zorder=13,label=r'$1+\\gamma h$')\n",
    "\n",
    "# # vv hydrostatic thickness profile vv\n",
    "plt.plot(x0,ex*(-delta*sc_2)+1,linewidth=2.5,color='k',linestyle='--',zorder=80,label=r'$1-\\gamma\\delta s$')\n",
    "\n",
    "plt.fill_between(x0,y1=ex*sc_2, y2=ex*hc_2+1,facecolor='aliceblue',alpha=1.0)\n",
    "plt.fill_between(x0,y1=-2*np.ones(np.size(x0)), y2=ex*sc_2,facecolor='lightsteelblue',alpha=1,zorder=15)\n",
    "plt.legend(fontsize=20,ncol=3,bbox_to_anchor=(0.55,-0.5))\n",
    "plt.xlabel(r'$x$',fontsize=20)\n",
    "plt.ylabel(r'$z$',fontsize=20)\n",
    "plt.xticks(fontsize=16)\n",
    "plt.gca().yaxis.tick_right()\n",
    "plt.gca().yaxis.set_label_position(\"right\")\n",
    "plt.yticks(fontsize=16)\n",
    "plt.ylim(-0.5,1.25)\n",
    "plt.xlim(-L,L)\n",
    "\n",
    "axins = plt.gca().inset_axes([0.0, -0.5,1, 0.25],sharex=plt.gca())\n",
    "axins.plot(x0,mc_2,linewidth=2,color='crimson',linestyle='-')\n",
    "axins.set_ylabel(r'$m$',fontsize=16,color='crimson')\n",
    "axins.yaxis.set_label_position(\"right\")\n",
    "axins.set_ylim(-np.abs(m_2).max()-2e-4,np.abs(m_2).max()+2e-4)\n",
    "axins.ticklabel_format(axis='y', style='sci', scilimits=(-4,-4),useMathText=True)\n",
    "axins.yaxis.set_offset_position('right')\n",
    "axins.tick_params(axis='y', which='major', labelsize=16,color='crimson',labelcolor='crimson',left=False, labelleft=False, right=True, labelright=True)\n",
    "axins.tick_params(axis='x',direction=\"in\",which='major', labelsize=16,top=True, labeltop=True, bottom=False, labelbottom=False)\n",
    "plt.setp(axins.get_xticklabels(), visible=False)\n",
    "\n",
    "plt.savefig('profiles',bbox_inches='tight')\n",
    "plt.show()"
   ]
  },
  {
   "cell_type": "markdown",
   "id": "casual-winter",
   "metadata": {},
   "source": [
    "Yay! Notes: the dashed line at the upper surface is the perfect flotation thickness and the flow speed has been normalized by its maximum absolute value."
   ]
  }
 ],
 "metadata": {
  "kernelspec": {
   "display_name": "Python 3",
   "language": "python",
   "name": "python3"
  },
  "language_info": {
   "codemirror_mode": {
    "name": "ipython",
    "version": 3
   },
   "file_extension": ".py",
   "mimetype": "text/x-python",
   "name": "python",
   "nbconvert_exporter": "python",
   "pygments_lexer": "ipython3",
   "version": "3.9.13"
  }
 },
 "nbformat": 4,
 "nbformat_minor": 5
}
