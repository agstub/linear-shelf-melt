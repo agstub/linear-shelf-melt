{
 "cells": [
  {
   "cell_type": "markdown",
   "id": "better-financing",
   "metadata": {},
   "source": [
    "This notebook plots the main mathematical quantities in the ice-shelf perturbation problem,\n",
    "which is described in much more detail in the notes. In words, we consider perturbations to an ice-shelf\n",
    "equilbrium state (uniform flow the $x$ direction) that are driven by melting or freezing at the base (ice-ocean interface).\n",
    "\n",
    "Briefly, all lengths are scaled by the ice thickness $H$ and times are scaled by the charactersitc relaxation time\n",
    "$t_r = 2\\eta/(\\rho_\\mathrm{i}gH)$.\n",
    "\n",
    "The problem is succintly stated as the differential equation\n",
    "$$\\frac{\\partial \\pmb{y}}{\\partial t} = \\mathsf{A}\\pmb{y} + \\pmb{b}. $$ \n",
    "Here, the solution is the vector \n",
    "$$ \\pmb{y} = [\\widehat{h},\\widehat{s}]^T $$\n",
    "that contains the Fourier-transformed upper-surface elevation $h$ and lower-surface elevation $s$ perturbations. \n",
    "The Fourier transforms are taken with respect to the horizontal coordinates $(x,y)$. Below, $k$ denotes the magnitude\n",
    "of the wavevector $\\pmb{k}=[k_x,k_y]^T$.\n",
    "The forcing vector \n",
    "$$\\pmb{b}=[0,\\widehat{m}]^T$$\n",
    "contains the Fourier-transformed basal melting (or freezing) rate $m$. Finally, the coefficient matrix\n",
    "is defined by $$\\mathsf{A} = -\\begin{bmatrix}\n",
    "ik_x\\alpha + \\mathsf{R} & \\delta \\mathsf{B} \\\\\n",
    " \\mathsf{B} & ik_x\\alpha + \\delta \\mathsf{R}\n",
    "\\end{bmatrix},$$\n",
    "where $\\delta = \\rho_\\mathrm{w}/\\rho_\\mathrm{i}-1$ is the flotation factor, $\\mathsf{R}(k)$ is a topographic relaxation function, $\\mathsf{B}(k)$ describes transfer of buoyancy forcing between the upper and lower surfaces,\n",
    "and $\\alpha$ is advection from the background flow. Expressions for the buoyancy and relaxation functions in terms of the wavevector magnitude $k$\n",
    "are provided in the notes.\n",
    "\n",
    "In this notebook, we will be looking at: \n",
    "\n",
    "1. the properties of $\\mathsf{R}$ and $\\mathsf{B}$, \n",
    "2. the eigenvalues and eigenvectors of $\\mathsf{A}$, \n",
    "3. the integral kernels $\\mathsf{K}_h$ and $\\mathsf{K}_s$ that are related to the elevation solutions via $\\widehat{h} = \\widehat{m}*\\mathsf{K}_h$ and $\\widehat{s} = \\widehat{m}*\\mathsf{K}_s $ where $*$ denotes convolution over time.\n",
    "4. A free-space Green's function (AKA fundamental solution) for the steady surface-elevation anomaly produced by a line source basal melting (or freezing) anomaly"
   ]
  },
  {
   "cell_type": "markdown",
   "id": "classified-namibia",
   "metadata": {},
   "source": [
    "First we import all of the relevant functions and modules:"
   ]
  },
  {
   "cell_type": "code",
   "execution_count": null,
   "id": "35b13b21",
   "metadata": {},
   "outputs": [],
   "source": [
    "%load_ext autoreload\n",
    "%autoreload 2"
   ]
  },
  {
   "cell_type": "code",
   "execution_count": null,
   "id": "dramatic-estate",
   "metadata": {},
   "outputs": [],
   "source": [
    "# add path to code\n",
    "import sys\n",
    "sys.path.insert(0, '../linear-model')\n",
    "import numpy as np\n",
    "import matplotlib.pyplot as plt \n",
    "import params as p\n",
    "from kernel_fcns import R,B,ker_h,ker_s,Lamda_p,Lamda_m\n",
    "\n",
    "# # latex font\n",
    "# import os\n",
    "# os.environ['PATH'] = os.environ['PATH'] + ':/usr/local/texlive/'\n",
    "# plt.rc('text', usetex=True)\n",
    "# plt.rc('font', family='serif')"
   ]
  },
  {
   "cell_type": "markdown",
   "id": "suitable-trainer",
   "metadata": {},
   "source": [
    "Plot the functions $\\mathsf{R}$ and $\\mathsf{B}$, as well as their difference and quotient, over a range of $k$:"
   ]
  },
  {
   "cell_type": "code",
   "execution_count": null,
   "id": "aggressive-mexico",
   "metadata": {},
   "outputs": [],
   "source": [
    "k = np.linspace(1e-2,1e2,num=10000)/(2*np.pi)\n",
    "ks = np.linspace(1e-2,2e0,num=10000)/(2*np.pi)\n",
    "kl = np.linspace(1e1,1e2,num=10000)/(2*np.pi)\n",
    "plt.close()\n",
    "plt.figure(figsize=(8,4))\n",
    "plt.plot(2*np.pi*k,R(k),color='crimson',linewidth=3,label=r'$\\mathsf{R}$',alpha=0.75)\n",
    "plt.plot(2*np.pi*k,B(k),color='royalblue',linestyle='-',linewidth=3,label=r'$\\mathsf{B}$',alpha=0.75)\n",
    "plt.plot(2*np.pi*ks,2*(2*np.pi*ks)**(-4),color='k',linestyle='--',linewidth=1.5)\n",
    "plt.plot(2*np.pi*kl,1*(2*np.pi*kl)**(-1),color='k',linestyle='--',linewidth=1.5)\n",
    "plt.plot(2*np.pi*kl,2*np.exp(-(2*np.pi*kl)**(1)),color='k',linestyle='--',linewidth=1.5)\n",
    "plt.annotate(xy=(1e-1,1e0),text=r'$\\textasciitilde$$k^{-4}$',fontsize=16)\n",
    "plt.annotate(xy=(2e1,3e0),text=r'$\\textasciitilde$$k^{-1}$',fontsize=16)\n",
    "plt.annotate(xy=(3e1,1e-10),text=r'$\\textasciitilde$$e^{-k}$',fontsize=16)\n",
    "plt.legend(bbox_to_anchor=(1.25,0.65),fontsize=18)\n",
    "plt.xscale('log')\n",
    "plt.yscale('log')\n",
    "plt.ylim(1e-14,1e8)\n",
    "plt.yticks(fontsize=16)\n",
    "plt.xticks(fontsize=16)\n",
    "plt.xlabel(r'$k$',fontsize=20)\n",
    "plt.tight_layout()\n",
    "plt.savefig('fig2',bbox_inches='tight')\n",
    "plt.show()\n",
    "plt.close()"
   ]
  },
  {
   "cell_type": "markdown",
   "id": "religious-tract",
   "metadata": {},
   "source": [
    "The main point of this plot is that, while $\\mathsf{R}$ and $\\mathsf{B}$ are singular in the limit $k\\to 0$, their difference and quotient are well-behaved. "
   ]
  },
  {
   "cell_type": "markdown",
   "id": "opponent-clothing",
   "metadata": {},
   "source": [
    "Next we plot the (real part of) the eigenvalues $\\{\\lambda_+,\\lambda_-\\}$ of the matrix $\\mathsf{A}$:"
   ]
  },
  {
   "cell_type": "code",
   "execution_count": null,
   "id": "planned-jamaica",
   "metadata": {},
   "outputs": [],
   "source": [
    "k = np.linspace(1e-3,1e2,num=10000)/(2*np.pi)\n",
    "ks = np.linspace(1e-2,1e0,num=10000)/(2*np.pi)\n",
    "kl = np.linspace(1e1,1e2,num=10000)/(2*np.pi)\n",
    "Lp = Lamda_p(k,0*k,0).real\n",
    "Lm = Lamda_m(k,0*k,0).real\n",
    "\n",
    "plt.figure(figsize=(7,4))\n",
    "plt.plot(2*np.pi*k,Lp,color='royalblue',linewidth=3,label=r'$\\lambda_+$',alpha=0.75)\n",
    "plt.plot(2*np.pi*k,Lm,color='crimson',linewidth=3,label=r'$\\lambda_-$',alpha=0.75)\n",
    "plt.axhline(y=-p.delta/(p.delta+1)/2,color='k',xmax=0.65,linestyle='--',linewidth=1.5)\n",
    "plt.plot(2*np.pi*kl,-0.27*(2*np.pi*kl)**(-1),color='k',linestyle='--',linewidth=1.5)\n",
    "plt.plot(2*np.pi*ks,-7*(2*np.pi*ks)**(-4),color='k',linestyle='--',linewidth=1.5)\n",
    "\n",
    "plt.annotate(xy=(1e-2,-8e-3),text=r'$-\\frac{1}{2}\\frac{\\delta}{\\delta+1 }$',fontsize=16,color='k')\n",
    "plt.annotate(xy=(2e1,-2e-1),text=r'$\\textasciitilde$$-k^{-1}$',fontsize=16)\n",
    "plt.annotate(xy=(6e-2,-5e2),text=r'$\\textasciitilde$$-k^{-4}$',fontsize=16)\n",
    "\n",
    "plt.xlabel(r'$k$',fontsize=20)\n",
    "plt.ylabel(r'$\\mathrm{Re}(\\lambda)$',fontsize=20)\n",
    "plt.ylim(-1e5,-1e-5)\n",
    "plt.xlim(1e-3,1e2)\n",
    "plt.yscale('symlog',linthresh=1e-5)\n",
    "plt.xscale('log')\n",
    "plt.xticks(fontsize=16)\n",
    "plt.yticks(fontsize=16)\n",
    "plt.legend(loc='lower left',fontsize=16)\n",
    "plt.tight_layout()\n",
    "plt.savefig('fig3',bbox_inches='tight')\n",
    "plt.show()\n",
    "plt.close()"
   ]
  },
  {
   "cell_type": "markdown",
   "id": "unlike-honor",
   "metadata": {},
   "source": [
    "The main points here are that both eigenvalues are negative (implies steady solutions are stable) and the larger one $\\lambda_-$ remains bounded as $k\\to 0$."
   ]
  },
  {
   "cell_type": "markdown",
   "id": "inner-illness",
   "metadata": {},
   "source": [
    "(The limiting value $\\lambda_+\\to -\\frac{1}{2}\\frac{\\delta}{\\delta+1}$ as $k\\to 0$ is derived in the algebra.py file)"
   ]
  },
  {
   "cell_type": "markdown",
   "id": "upper-fancy",
   "metadata": {},
   "source": [
    "Next we plot the (normalized) eigenvectors $\\pmb{\\varphi}_+$ and $\\pmb{\\varphi}_-$ of the matrix $\\mathsf{A}$. (These vectors have components that influence $\\widehat{h}$ and $\\widehat{s}$)."
   ]
  },
  {
   "cell_type": "code",
   "execution_count": null,
   "id": "human-walker",
   "metadata": {},
   "outputs": [],
   "source": [
    "k = np.linspace(1e-3,1e2,num=1000)/(2*np.pi)\n",
    "R_ = R(k)\n",
    "B_ = B(k)\n",
    "chi = (1-p.delta)*R_\n",
    "mu = np.sqrt(4*p.delta*(B_)**2 + chi**2)\n",
    "\n",
    "vmh = (R_*(1-p.delta) + mu)/(2*B_)\n",
    "vph = (R_*(1-p.delta) - mu)/(2*B_)\n",
    "\n",
    "vps = 1/np.sqrt(1+vph**2)\n",
    "vms = 1/np.sqrt(1+vmh**2)\n",
    "\n",
    "vph = vph/np.sqrt(1+vph**2)\n",
    "vmh = vmh/np.sqrt(1+vmh**2)\n",
    "\n",
    "plt.close()\n",
    "plt.figure(figsize=(6,6))\n",
    "plt.subplot(211)\n",
    "plt.plot(2*np.pi*k,vmh,color='crimson',linewidth=3,label=r'$h$',alpha=0.75)\n",
    "plt.plot(2*np.pi*k,vms,color='royalblue',linewidth=3,label=r'$s$',alpha=0.75)\n",
    "plt.axhline(y=1/np.sqrt(2),color='k',xmax=0.75,linestyle='--',linewidth=1.5)\n",
    "plt.annotate(xy=(7e0,1/np.sqrt(2)-0.025),text=r'$\\frac{1}{\\sqrt{2}}$',fontsize=16)\n",
    "plt.xscale('log')\n",
    "plt.xlim(1e-3,1e2)\n",
    "plt.yticks(fontsize=16)\n",
    "plt.gca().xaxis.set_ticklabels([])\n",
    "plt.ylabel(r'$\\mathbf{\\varphi}_-\\,/\\, \\Vert\\mathbf{\\varphi}_-\\Vert $ ',fontsize=18)\n",
    "\n",
    "plt.subplot(212)\n",
    "plt.plot(2*np.pi*k,vph,color='crimson',linewidth=3,label=r'$h$ comp.',alpha=0.75)\n",
    "plt.plot(2*np.pi*k,vps,color='royalblue',linewidth=3,label=r'$s$ comp.',alpha=0.75)\n",
    "plt.axhline(y=-p.delta,color='k',xmax=0.75,linestyle='--',linewidth=1.5)\n",
    "plt.xlabel(r'$k$',fontsize=20)\n",
    "plt.ylabel(r'$\\mathbf{\\varphi}_+\\,/\\, \\Vert\\mathbf{\\varphi}_+\\Vert $ ',fontsize=18)\n",
    "plt.annotate(xy=(7e0,-p.delta-0.025),text=r'$-\\delta$',fontsize=16)\n",
    "plt.xscale('log')\n",
    "plt.xlim(1e-3,1e2)\n",
    "plt.xticks(fontsize=16)\n",
    "plt.yticks(fontsize=16)\n",
    "plt.legend(bbox_to_anchor=(1.475,1.4),fontsize=18)\n",
    "plt.savefig('fig4',bbox_inches='tight')\n",
    "plt.show()\n",
    "plt.close()"
   ]
  },
  {
   "cell_type": "markdown",
   "id": "allied-campus",
   "metadata": {},
   "source": [
    "Here, the main points are that the eigenvector $\\pmb{\\varphi}_+$ corresponding to the larger eigenvalue $\\lambda_+$ approaches\n",
    "$[-\\delta,1]^T$, which serves to drive the solution towards the perfect flotations condition $h=-\\delta s$\n",
    "in the limit $k\\to 0$. In the short-wavelength limit ($k\\gg 1$), the eigenvectors approach $[1,0]^T$ and $[0,1]^T$, meaning that the upper and lower elevations cease to be coupled. Finally, the long-wavelength limit of the other eigenvector $\\pmb{\\varphi}_-\\to [1,1]^T$\n",
    "allows for deviation from perfect flotation, although this is not a very strong effect because the corresponding eigenvalue $\\lambda_-$ becomes very negative (see previous plot)."
   ]
  },
  {
   "cell_type": "markdown",
   "id": "scientific-absorption",
   "metadata": {},
   "source": [
    "Next we will plot the solution kernels $\\mathsf{K}_h(k,t)$ and $\\mathsf{K}_s(k,t)$ against $t$ and $k$.\n",
    "(We actually plot $-\\mathsf{K}_h/\\delta$ because its range is $[0,1]$)."
   ]
  },
  {
   "cell_type": "code",
   "execution_count": null,
   "id": "ambient-planning",
   "metadata": {},
   "outputs": [],
   "source": [
    "k0 = np.linspace(1e-3,1e2,num=1000)/(2*np.pi)\n",
    "t0 = np.linspace(0,1e2,num=1000)\n",
    "t,k = np.meshgrid(t0,k0)\n",
    "Kh0 = ker_h(t,k,0*k,0).real\n",
    "Ks0 = ker_s(t,k,0*k,0).real"
   ]
  },
  {
   "cell_type": "code",
   "execution_count": null,
   "id": "turkish-visiting",
   "metadata": {},
   "outputs": [],
   "source": [
    "import warnings\n",
    "warnings.filterwarnings(\"ignore\")\n",
    "import matplotlib.patches as patches\n",
    "\n",
    "levels=np.linspace(0,1,num=6)\n",
    "\n",
    "box1 = patches.Rectangle((2*np.pi*1.6e-4, 0.9e-1), 1, 1e2, linewidth=3, linestyle='--',edgecolor='xkcd:coral', facecolor='none')\n",
    "box2 = patches.Rectangle((2*np.pi*1.6e-4, 0.9e-1), 1, 1e2, linewidth=3, linestyle='--', edgecolor='xkcd:coral', facecolor='none')\n",
    "\n",
    "# Add the patch to the Axes\n",
    "\n",
    "plt.close()\n",
    "fig = plt.figure(figsize=(8,3.5))\n",
    "plt.subplot(121)\n",
    "plt.title(r'(a) $\\mathrm{Re}(\\mathsf{K}_s)$',fontsize=22,loc='left')\n",
    "plt.contourf(2*np.pi*k0,t0,Ks0.T,cmap='Blues',vmin=0,vmax=1,levels=levels)\n",
    "plt.yticks(fontsize=16)\n",
    "plt.xticks(fontsize=16)\n",
    "plt.ylabel(r'$t$',fontsize=20)\n",
    "plt.xlabel(r'$k$',fontsize=20)\n",
    "plt.xscale('log')\n",
    "plt.yscale('log')\n",
    "plt.annotate(xy=(2*np.pi*2e-4, 1.5e-1),text=r'$\\widehat{h}\\approx-\\delta \\widehat{s}$',fontsize=16,color='xkcd:coral')\n",
    "plt.ylim(1e-2,1e2)\n",
    "patch1 = plt.gca().add_patch(box1)\n",
    "patch1.set_clip_on(False)\n",
    "\n",
    "plt.subplot(122)\n",
    "plt.title(r'(b) $\\mathrm{Re}(-\\mathsf{K}_h\\,/\\,\\delta)$',loc='left',fontsize=22)\n",
    "p1 = plt.contourf(2*np.pi*k0,t0,-Kh0.T/p.delta,cmap='Blues',vmin=0,vmax=1,levels=levels)\n",
    "plt.xticks(fontsize=16)\n",
    "plt.xscale('log')\n",
    "plt.yscale('log')\n",
    "plt.gca().yaxis.set_ticklabels([])\n",
    "plt.xlabel(r'$k$',fontsize=20)\n",
    "plt.ylim(1e-2,1e2)\n",
    "patch2 = plt.gca().add_patch(box2)\n",
    "patch2.set_clip_on(False)\n",
    "\n",
    "\n",
    "fig.subplots_adjust(right=0.85)\n",
    "cbar_ax = fig.add_axes([1, 0.25, 0.02, 0.6])\n",
    "cbar = fig.colorbar(p1,cax=cbar_ax,orientation='vertical',ticks=levels)\n",
    "cbar.ax.tick_params(labelsize=16)\n",
    "plt.tight_layout()\n",
    "plt.savefig('fig5',bbox_inches='tight')\n",
    "plt.show()\n",
    "plt.close()"
   ]
  },
  {
   "cell_type": "markdown",
   "id": "received-integration",
   "metadata": {},
   "source": [
    "From the solution formulas in the introductory paragraph, it follows that perfect flotation ($h=-\\delta s$)\n",
    "arises when $\\mathsf{K}_h = -\\delta \\mathsf{K}_s$. The region that this is approximately satisfied for is shown by the dashed box in the above figure, roughly corresponding to $(k,t)\\in (0,1)\\times (10^{-1},\\infty)$. Therefore,\n",
    "deviation from perfect flotation occurs on fast timescales (relative to the relaxtion time) and short\n",
    "wavelengths."
   ]
  },
  {
   "cell_type": "markdown",
   "id": "412fbec8",
   "metadata": {},
   "source": [
    "Here, derive a free-space Green's function, or fundamental solution, in the limit of \n",
    "no background advection $\\alpha\\to 0$ for the case of a line source melting (or freezing) perturbation.\n",
    "We compute steady solutions via $[\\widehat{h}_e,\\widehat{s}_e]^\\mathrm{T}=-\\mathsf{A}^{-1}\\boldsymbol{b}$ \n",
    "in the limit $\\alpha\\to 0$ to find\n",
    "\\begin{align}\n",
    "&\\widehat{h}_e =\\widehat{G}\\,\\widehat{m}.\n",
    "\\end{align}\n",
    "where\n",
    "\\begin{align}\n",
    "\\widehat{G} \\equiv \n",
    " -\\frac{\\mathsf{B}}{\\mathsf{R}^2-\\mathsf{B}^2} =-[k^2 \\mathrm{coth}(k) \\mathrm{csch}(k) + k \\mathrm{csch}(k)]. \n",
    "\\end{align}\n",
    "Restricting the problem to one horizontal dimension (i.e., $k=|k_x|$), we can use the convolution theorem to\n",
    "find the steady surface elevation via \n",
    "\\begin{align}\n",
    "h_\\mathrm{e}(x) = \\int_{-\\infty}^{+\\infty} G(x-\\tilde{x}) m(\\tilde{x}) \\;\\mathrm{d}\\tilde{x},\n",
    "\\end{align}\n",
    "where the free-space Green's function (or fundamental solution) is \n",
    "\\begin{align}\n",
    "G(x) = \\frac{\\pi}{4}\\mathrm{sech}^2\\left(\\frac{\\pi x}{2}\\right)\\left[\\pi x \\, \\mathrm{tanh}\\left(\\frac{\\pi x}{2}\\right)-3 \\right], \n",
    "\\end{align}\n",
    "which corresponds to the case where the melt rate is a line source in two horizontal dimensions."
   ]
  },
  {
   "cell_type": "code",
   "execution_count": null,
   "id": "143f8585",
   "metadata": {},
   "outputs": [],
   "source": [
    "# define parameters\n",
    "L = 6                               # half-length/width of domain for plotting\n",
    "x = np.linspace(-L,L,1000)          # spatial array\n",
    "\n",
    "# 1. Free-space Green's function (fundamental solution) for a line source (i.e., no y dependence)\n",
    "G = (1./4.)*np.pi *(1/np.cosh((np.pi*x)/2.)**2) *(-3+np.pi*x *np.tanh((np.pi* x)/2.0))\n",
    "\n",
    "plt.figure(figsize=(8,4))\n",
    "plt.plot(x,G,'k',linewidth=3)\n",
    "plt.ylabel(r'$G$',fontsize=24,math_fontfamily='cm')\n",
    "plt.xlabel(r'$x$',fontsize=24,math_fontfamily='cm')\n",
    "plt.xticks(fontsize=16)\n",
    "plt.yticks(fontsize=16)\n",
    "plt.tight_layout()\n",
    "plt.savefig('fig6')\n",
    "plt.show()\n",
    "plt.close()"
   ]
  },
  {
   "cell_type": "code",
   "execution_count": null,
   "id": "b99766c7",
   "metadata": {},
   "outputs": [],
   "source": [
    "# # *** some miscellaneous plots not included in the manuscript ***\n",
    "# # *** spectrum of a horizontal velocity solution              ***\n",
    "\n",
    "# Uh = lambda k,z,a: -a*(2*k*z*np.exp(2*k*z) - z*np.exp(2*k*z) + z*np.exp(2*k*(z + 1)) - z + (2*k*z + z - 1)*np.exp(2*k) + np.exp(2*k*z) - np.exp(2*k*(z + 1)) + 1)*np.exp(k*(1 - z))/(k*((4*k**2 + 2)*np.exp(2*k) - np.exp(4*k) - 1))\n",
    "\n",
    "# Us = lambda k,z,a: a*(-2*k*z*np.exp(2*k*(z + 1)) + 2*k*np.exp(2*k*(z + 1)) - z*np.exp(4*k) + z*np.exp(2*k*z) - z*np.exp(2*k*(z + 1)) + (-2*k*z + 2*k + z)*np.exp(2*k))*np.exp(-k*z)/(k*((4*k**2 + 2)*np.exp(2*k) - np.exp(4*k) - 1))\n",
    "\n",
    "# #from kernel_fcns import Uh,Us\n",
    "# k = np.logspace(-10,2,num=10000000)/(2*np.pi)\n",
    "# from params import t_r,H\n",
    "# # For Figure 8 (melting) set:\n",
    "# M = np.exp(-k**2)*5*(t_r/3.154e7)/H \n",
    "# L1 = ((Us(k,1,k)*R(k)-Uh(k,1,k)*B(k))/(R(k)**2-B(k)**2))*M\n",
    "# L0 = ((Us(k,0,k)*R(k)-Uh(k,0,k)*B(k))/(R(k)**2-B(k)**2))*M\n",
    "# Lm = ((Us(k,0.5,k)*R(k)-Uh(k,0.5,k)*B(k))/(R(k)**2-B(k)**2))*M\n",
    "\n",
    "# p = -k**2 / (R(k)**2-B(k)**2)\n",
    "\n",
    "\n",
    "# plt.figure(figsize=(8,3))\n",
    "# plt.plot(2*np.pi*k,L1,color='royalblue',linestyle='-',linewidth=1)\n",
    "# plt.xscale('log')\n",
    "# plt.xlabel(r'$k$',fontsize=20)\n",
    "# plt.ylim(-20,20)\n",
    "# plt.yticks(fontsize=16)\n",
    "# plt.xticks(fontsize=16)\n",
    "# plt.tight_layout()\n",
    "# plt.show()\n",
    "# plt.close()\n"
   ]
  }
 ],
 "metadata": {
  "kernelspec": {
   "display_name": "Python 3 (ipykernel)",
   "language": "python",
   "name": "python3"
  },
  "language_info": {
   "codemirror_mode": {
    "name": "ipython",
    "version": 3
   },
   "file_extension": ".py",
   "mimetype": "text/x-python",
   "name": "python",
   "nbconvert_exporter": "python",
   "pygments_lexer": "ipython3",
   "version": "3.9.13"
  }
 },
 "nbformat": 4,
 "nbformat_minor": 5
}
